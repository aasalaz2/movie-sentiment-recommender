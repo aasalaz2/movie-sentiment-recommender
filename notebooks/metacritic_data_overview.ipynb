{
 "cells": [
  {
   "cell_type": "code",
   "execution_count": 1,
   "id": "41a546cf",
   "metadata": {
    "execution": {
     "iopub.execute_input": "2025-10-20T03:16:10.843001Z",
     "iopub.status.busy": "2025-10-20T03:16:10.843001Z",
     "iopub.status.idle": "2025-10-20T03:16:13.196259Z",
     "shell.execute_reply": "2025-10-20T03:16:13.196259Z"
    }
   },
   "outputs": [
    {
     "name": "stderr",
     "output_type": "stream",
     "text": [
      "E:\\UIUC Classes\\CS 410 - Text Information Systems\\movie-sentiment-recommender\\movie_env\\Lib\\site-packages\\tqdm\\auto.py:21: TqdmWarning: IProgress not found. Please update jupyter and ipywidgets. See https://ipywidgets.readthedocs.io/en/stable/user_install.html\n",
      "  from .autonotebook import tqdm as notebook_tqdm\n"
     ]
    },
    {
     "data": {
      "text/html": [
       "\n",
       "            <div>\n",
       "                <ins><a href=\"https://ydata.ai/register\">Upgrade to ydata-sdk</a></ins>\n",
       "                <p>\n",
       "                    Improve your data and profiling with ydata-sdk, featuring data quality scoring, redundancy detection, outlier identification, text validation, and synthetic data generation.\n",
       "                </p>\n",
       "            </div>\n",
       "            "
      ],
      "text/plain": [
       "<IPython.core.display.HTML object>"
      ]
     },
     "metadata": {},
     "output_type": "display_data"
    }
   ],
   "source": [
    "import pandas as pd\n",
    "from ydata_profiling import ProfileReport"
   ]
  },
  {
   "cell_type": "code",
   "execution_count": 2,
   "id": "bcb67c23",
   "metadata": {
    "execution": {
     "iopub.execute_input": "2025-10-20T03:16:13.198267Z",
     "iopub.status.busy": "2025-10-20T03:16:13.197264Z",
     "iopub.status.idle": "2025-10-20T03:16:16.368618Z",
     "shell.execute_reply": "2025-10-20T03:16:16.368618Z"
    }
   },
   "outputs": [
    {
     "name": "stderr",
     "output_type": "stream",
     "text": [
      "\r",
      "Summarize dataset:   0%|                                                                | 0/5 [00:00<?, ?it/s]"
     ]
    },
    {
     "name": "stderr",
     "output_type": "stream",
     "text": [
      "\r",
      "Summarize dataset:   0%|                                | 0/11 [00:00<?, ?it/s, Describe variable: Movie name]"
     ]
    },
    {
     "name": "stderr",
     "output_type": "stream",
     "text": [
      "\r",
      "Summarize dataset:   0%|                                    | 0/11 [00:00<?, ?it/s, Describe variable: Rating]"
     ]
    },
    {
     "name": "stderr",
     "output_type": "stream",
     "text": [
      "\r",
      "Summarize dataset:   0%|                                   | 0/11 [00:00<?, ?it/s, Describe variable: summary]"
     ]
    },
    {
     "name": "stderr",
     "output_type": "stream",
     "text": [
      "\r",
      "Summarize dataset:   0%|                               | 0/11 [00:00<?, ?it/s, Describe variable: User rating]"
     ]
    },
    {
     "name": "stderr",
     "output_type": "stream",
     "text": [
      "\r",
      "Summarize dataset:   0%|                            | 0/11 [00:00<?, ?it/s, Describe variable: Website rating]"
     ]
    },
    {
     "name": "stderr",
     "output_type": "stream",
     "text": [
      "\r",
      "Summarize dataset:   0%|                            | 0/11 [00:00<?, ?it/s, Describe variable: Website rating]"
     ]
    },
    {
     "name": "stderr",
     "output_type": "stream",
     "text": [
      "\n"
     ]
    },
    {
     "name": "stderr",
     "output_type": "stream",
     "text": [
      "\r",
      "  0%|                                                                                   | 0/6 [00:00<?, ?it/s]"
     ]
    },
    {
     "name": "stderr",
     "output_type": "stream",
     "text": [
      "\u001b[A"
     ]
    },
    {
     "name": "stderr",
     "output_type": "stream",
     "text": [
      "\r",
      "Summarize dataset:   9%|█▊                  | 1/11 [00:00<00:01,  9.73it/s, Describe variable: Website rating]"
     ]
    },
    {
     "name": "stderr",
     "output_type": "stream",
     "text": [
      "\n"
     ]
    },
    {
     "name": "stderr",
     "output_type": "stream",
     "text": [
      "\r",
      " 17%|████████████▌                                                              | 1/6 [00:00<00:00,  7.03it/s]"
     ]
    },
    {
     "name": "stderr",
     "output_type": "stream",
     "text": [
      "\u001b[A"
     ]
    },
    {
     "name": "stderr",
     "output_type": "stream",
     "text": [
      "\r",
      "Summarize dataset:  55%|██████████▉         | 6/11 [00:00<00:00,  8.95it/s, Describe variable: Website rating]"
     ]
    },
    {
     "name": "stderr",
     "output_type": "stream",
     "text": [
      "\n"
     ]
    },
    {
     "name": "stderr",
     "output_type": "stream",
     "text": [
      "\r",
      " 67%|██████████████████████████████████████████████████                         | 4/6 [00:00<00:00,  6.54it/s]"
     ]
    },
    {
     "name": "stderr",
     "output_type": "stream",
     "text": [
      "\u001b[A"
     ]
    },
    {
     "name": "stderr",
     "output_type": "stream",
     "text": [
      "\r",
      "100%|███████████████████████████████████████████████████████████████████████████| 6/6 [00:00<00:00,  9.86it/s]"
     ]
    },
    {
     "name": "stderr",
     "output_type": "stream",
     "text": [
      "\n",
      "\r",
      "Summarize dataset:  55%|███████████████████                | 6/11 [00:00<00:00,  8.95it/s, Get variable types]"
     ]
    },
    {
     "name": "stderr",
     "output_type": "stream",
     "text": [
      "\r",
      "Summarize dataset:  58%|████████████████▉            | 7/12 [00:00<00:00,  8.95it/s, Get dataframe statistics]"
     ]
    },
    {
     "name": "stderr",
     "output_type": "stream",
     "text": [
      "\r",
      "Summarize dataset:  62%|████████████████▌          | 8/13 [00:00<00:00,  8.95it/s, Calculate auto correlation]"
     ]
    },
    {
     "name": "stderr",
     "output_type": "stream",
     "text": [
      "\r",
      "Summarize dataset:  69%|████████████████████████▏          | 9/13 [00:00<00:00,  8.95it/s, Get scatter matrix]"
     ]
    },
    {
     "name": "stderr",
     "output_type": "stream",
     "text": [
      "\r",
      "Summarize dataset:  64%|█████████▋     | 9/14 [00:00<00:00,  8.95it/s, scatter Website rating, Website rating]"
     ]
    },
    {
     "name": "stderr",
     "output_type": "stream",
     "text": [
      "\r",
      "Summarize dataset:  59%|███████████████████▍             | 10/17 [00:00<00:00,  8.95it/s, Missing diagram bar]"
     ]
    },
    {
     "name": "stderr",
     "output_type": "stream",
     "text": [
      "\r",
      "Summarize dataset:  65%|█████████████████████▎           | 11/17 [00:00<00:00, 15.30it/s, Missing diagram bar]"
     ]
    },
    {
     "name": "stderr",
     "output_type": "stream",
     "text": [
      "\r",
      "Summarize dataset:  65%|███████████████████▍          | 11/17 [00:00<00:00, 15.30it/s, Missing diagram matrix]"
     ]
    },
    {
     "name": "stderr",
     "output_type": "stream",
     "text": [
      "\r",
      "Summarize dataset:  71%|████████████████████▍        | 12/17 [00:00<00:00, 15.30it/s, Missing diagram heatmap]"
     ]
    },
    {
     "name": "stderr",
     "output_type": "stream",
     "text": [
      "\r",
      "Summarize dataset:  76%|███████████████████████████████▎         | 13/17 [00:00<00:00, 15.30it/s, Take sample]"
     ]
    },
    {
     "name": "stderr",
     "output_type": "stream",
     "text": [
      "\r",
      "Summarize dataset:  82%|█████████████████████████████████▊       | 14/17 [00:00<00:00, 18.08it/s, Take sample]"
     ]
    },
    {
     "name": "stderr",
     "output_type": "stream",
     "text": [
      "\r",
      "Summarize dataset:  82%|██████████████████████████▎     | 14/17 [00:00<00:00, 18.08it/s, Detecting duplicates]"
     ]
    },
    {
     "name": "stderr",
     "output_type": "stream",
     "text": [
      "\r",
      "Summarize dataset:  88%|█████████████████████████████████████     | 15/17 [00:00<00:00, 18.08it/s, Get alerts]"
     ]
    },
    {
     "name": "stderr",
     "output_type": "stream",
     "text": [
      "\r",
      "Summarize dataset:  94%|██████████████████████████▎ | 16/17 [00:00<00:00, 18.08it/s, Get reproduction details]"
     ]
    },
    {
     "name": "stderr",
     "output_type": "stream",
     "text": [
      "\r",
      "Summarize dataset: 100%|███████████████████████████████████████████| 17/17 [00:00<00:00, 18.08it/s, Completed]"
     ]
    },
    {
     "name": "stderr",
     "output_type": "stream",
     "text": [
      "\r",
      "Summarize dataset: 100%|███████████████████████████████████████████| 17/17 [00:00<00:00, 18.48it/s, Completed]"
     ]
    },
    {
     "name": "stderr",
     "output_type": "stream",
     "text": [
      "\n"
     ]
    },
    {
     "name": "stderr",
     "output_type": "stream",
     "text": [
      "\r",
      "Generate report structure:   0%|                                                        | 0/1 [00:00<?, ?it/s]"
     ]
    },
    {
     "name": "stderr",
     "output_type": "stream",
     "text": [
      "\r",
      "Generate report structure: 100%|████████████████████████████████████████████████| 1/1 [00:01<00:00,  1.60s/it]"
     ]
    },
    {
     "name": "stderr",
     "output_type": "stream",
     "text": [
      "\r",
      "Generate report structure: 100%|████████████████████████████████████████████████| 1/1 [00:01<00:00,  1.60s/it]"
     ]
    },
    {
     "name": "stderr",
     "output_type": "stream",
     "text": [
      "\n"
     ]
    },
    {
     "name": "stderr",
     "output_type": "stream",
     "text": [
      "\r",
      "Render HTML:   0%|                                                                      | 0/1 [00:00<?, ?it/s]"
     ]
    },
    {
     "name": "stderr",
     "output_type": "stream",
     "text": [
      "\r",
      "Render HTML: 100%|██████████████████████████████████████████████████████████████| 1/1 [00:00<00:00,  7.66it/s]"
     ]
    },
    {
     "name": "stderr",
     "output_type": "stream",
     "text": [
      "\r",
      "Render HTML: 100%|██████████████████████████████████████████████████████████████| 1/1 [00:00<00:00,  7.60it/s]"
     ]
    },
    {
     "name": "stderr",
     "output_type": "stream",
     "text": [
      "\n"
     ]
    },
    {
     "name": "stderr",
     "output_type": "stream",
     "text": [
      "\r",
      "Export report to file:   0%|                                                            | 0/1 [00:00<?, ?it/s]"
     ]
    },
    {
     "name": "stderr",
     "output_type": "stream",
     "text": [
      "\r",
      "Export report to file: 100%|███████████████████████████████████████████████████| 1/1 [00:00<00:00, 250.14it/s]"
     ]
    },
    {
     "name": "stderr",
     "output_type": "stream",
     "text": [
      "\n"
     ]
    }
   ],
   "source": [
    "# Load dataset\n",
    "df = pd.read_csv(\"../data/raw/metacritic-reviews.csv\", encoding='latin1', on_bad_lines=\"skip\")\n",
    "\n",
    "# Generate profile report\n",
    "profile = ProfileReport(df, title=\"Metacritic Dataset Profile\", explorative=True)\n",
    "\n",
    "# Save to HTML file\n",
    "profile.to_file(\"../data/reports/metacritic_profile.html\")"
   ]
  }
 ],
 "metadata": {
  "kernelspec": {
   "display_name": "movie_env",
   "language": "python",
   "name": "python3"
  },
  "language_info": {
   "codemirror_mode": {
    "name": "ipython",
    "version": 3
   },
   "file_extension": ".py",
   "mimetype": "text/x-python",
   "name": "python",
   "nbconvert_exporter": "python",
   "pygments_lexer": "ipython3",
   "version": "3.12.6"
  }
 },
 "nbformat": 4,
 "nbformat_minor": 5
}
