{
 "cells": [
  {
   "cell_type": "code",
   "execution_count": 1,
   "id": "41a546cf",
   "metadata": {
    "execution": {
     "iopub.execute_input": "2025-10-22T19:28:05.975990Z",
     "iopub.status.busy": "2025-10-22T19:28:05.975990Z",
     "iopub.status.idle": "2025-10-22T19:28:08.267714Z",
     "shell.execute_reply": "2025-10-22T19:28:08.267714Z"
    }
   },
   "outputs": [
    {
     "name": "stderr",
     "output_type": "stream",
     "text": [
      "E:\\UIUC Classes\\CS 410 - Text Information Systems\\movie-sentiment-recommender\\movie_env\\Lib\\site-packages\\tqdm\\auto.py:21: TqdmWarning: IProgress not found. Please update jupyter and ipywidgets. See https://ipywidgets.readthedocs.io/en/stable/user_install.html\n",
      "  from .autonotebook import tqdm as notebook_tqdm\n"
     ]
    },
    {
     "data": {
      "text/html": [
       "\n",
       "            <div>\n",
       "                <ins><a href=\"https://ydata.ai/register\">Upgrade to ydata-sdk</a></ins>\n",
       "                <p>\n",
       "                    Improve your data and profiling with ydata-sdk, featuring data quality scoring, redundancy detection, outlier identification, text validation, and synthetic data generation.\n",
       "                </p>\n",
       "            </div>\n",
       "            "
      ],
      "text/plain": [
       "<IPython.core.display.HTML object>"
      ]
     },
     "metadata": {},
     "output_type": "display_data"
    }
   ],
   "source": [
    "import pandas as pd\n",
    "from ydata_profiling import ProfileReport"
   ]
  },
  {
   "cell_type": "code",
   "execution_count": 2,
   "id": "1fcf405d",
   "metadata": {
    "execution": {
     "iopub.execute_input": "2025-10-22T19:28:08.267714Z",
     "iopub.status.busy": "2025-10-22T19:28:08.267714Z",
     "iopub.status.idle": "2025-10-22T19:28:08.332597Z",
     "shell.execute_reply": "2025-10-22T19:28:08.332597Z"
    }
   },
   "outputs": [
    {
     "name": "stdout",
     "output_type": "stream",
     "text": [
      "<class 'pandas.core.frame.DataFrame'>\n",
      "RangeIndex: 12924 entries, 0 to 12923\n",
      "Data columns (total 6 columns):\n",
      " #   Column          Non-Null Count  Dtype \n",
      "---  ------          --------------  ----- \n",
      " 0   Movie name      12924 non-null  object\n",
      " 1   Release Date    12924 non-null  object\n",
      " 2   Rating          11976 non-null  object\n",
      " 3   summary         12923 non-null  object\n",
      " 4   User rating     12924 non-null  object\n",
      " 5   Website rating  12924 non-null  int64 \n",
      "dtypes: int64(1), object(5)\n",
      "memory usage: 605.9+ KB\n"
     ]
    },
    {
     "data": {
      "text/plain": [
       "None"
      ]
     },
     "metadata": {},
     "output_type": "display_data"
    },
    {
     "data": {
      "text/html": [
       "<div>\n",
       "<style scoped>\n",
       "    .dataframe tbody tr th:only-of-type {\n",
       "        vertical-align: middle;\n",
       "    }\n",
       "\n",
       "    .dataframe tbody tr th {\n",
       "        vertical-align: top;\n",
       "    }\n",
       "\n",
       "    .dataframe thead th {\n",
       "        text-align: right;\n",
       "    }\n",
       "</style>\n",
       "<table border=\"1\" class=\"dataframe\">\n",
       "  <thead>\n",
       "    <tr style=\"text-align: right;\">\n",
       "      <th></th>\n",
       "      <th>Movie name</th>\n",
       "      <th>Release Date</th>\n",
       "      <th>Rating</th>\n",
       "      <th>summary</th>\n",
       "      <th>User rating</th>\n",
       "      <th>Website rating</th>\n",
       "    </tr>\n",
       "  </thead>\n",
       "  <tbody>\n",
       "    <tr>\n",
       "      <th>0</th>\n",
       "      <td>Touch of Evil</td>\n",
       "      <td>1-Feb-58</td>\n",
       "      <td>| PG-13</td>\n",
       "      <td>This film noir portrait of corruption and mora...</td>\n",
       "      <td>8.4</td>\n",
       "      <td>99</td>\n",
       "    </tr>\n",
       "    <tr>\n",
       "      <th>1</th>\n",
       "      <td>Seven Samurai</td>\n",
       "      <td>19-Nov-56</td>\n",
       "      <td>| Not Rated</td>\n",
       "      <td>Seven Samurai (Shichinin no samurai) tells the...</td>\n",
       "      <td>8.8</td>\n",
       "      <td>98</td>\n",
       "    </tr>\n",
       "    <tr>\n",
       "      <th>2</th>\n",
       "      <td>The Wild Bunch</td>\n",
       "      <td>18-Jun-69</td>\n",
       "      <td>| R</td>\n",
       "      <td>An aging group of outlaws look for one last bi...</td>\n",
       "      <td>7.6</td>\n",
       "      <td>98</td>\n",
       "    </tr>\n",
       "    <tr>\n",
       "      <th>3</th>\n",
       "      <td>Au hasard Balthazar</td>\n",
       "      <td>16-Sep-66</td>\n",
       "      <td>| Not Rated</td>\n",
       "      <td>Robert Bresson's 1966 film focuses on the stor...</td>\n",
       "      <td>7.1</td>\n",
       "      <td>98</td>\n",
       "    </tr>\n",
       "    <tr>\n",
       "      <th>4</th>\n",
       "      <td>The Lady Vanishes</td>\n",
       "      <td>1-Nov-38</td>\n",
       "      <td>| Approved</td>\n",
       "      <td>While travelling in continental Europe, a rich...</td>\n",
       "      <td>8.1</td>\n",
       "      <td>98</td>\n",
       "    </tr>\n",
       "  </tbody>\n",
       "</table>\n",
       "</div>"
      ],
      "text/plain": [
       "            Movie name Release Date       Rating  \\\n",
       "0        Touch of Evil     1-Feb-58      | PG-13   \n",
       "1        Seven Samurai    19-Nov-56  | Not Rated   \n",
       "2       The Wild Bunch    18-Jun-69          | R   \n",
       "3  Au hasard Balthazar    16-Sep-66  | Not Rated   \n",
       "4    The Lady Vanishes     1-Nov-38   | Approved   \n",
       "\n",
       "                                             summary User rating  \\\n",
       "0  This film noir portrait of corruption and mora...         8.4   \n",
       "1  Seven Samurai (Shichinin no samurai) tells the...         8.8   \n",
       "2  An aging group of outlaws look for one last bi...         7.6   \n",
       "3  Robert Bresson's 1966 film focuses on the stor...         7.1   \n",
       "4  While travelling in continental Europe, a rich...         8.1   \n",
       "\n",
       "   Website rating  \n",
       "0              99  \n",
       "1              98  \n",
       "2              98  \n",
       "3              98  \n",
       "4              98  "
      ]
     },
     "metadata": {},
     "output_type": "display_data"
    }
   ],
   "source": [
    "# Load dataset\n",
    "df = pd.read_csv(\"../data/raw/metacritic-reviews.csv\", encoding='latin1', on_bad_lines=\"skip\")\n",
    "\n",
    "# Show basic info\n",
    "display(df.info())\n",
    "display(df.head())"
   ]
  },
  {
   "cell_type": "code",
   "execution_count": 3,
   "id": "b9b6c33a",
   "metadata": {
    "execution": {
     "iopub.execute_input": "2025-10-22T19:28:08.333601Z",
     "iopub.status.busy": "2025-10-22T19:28:08.333601Z",
     "iopub.status.idle": "2025-10-22T19:28:08.342601Z",
     "shell.execute_reply": "2025-10-22T19:28:08.342601Z"
    }
   },
   "outputs": [
    {
     "name": "stdout",
     "output_type": "stream",
     "text": [
      "Number of duplicate movie titles: 329\n"
     ]
    },
    {
     "data": {
      "text/html": [
       "<div>\n",
       "<style scoped>\n",
       "    .dataframe tbody tr th:only-of-type {\n",
       "        vertical-align: middle;\n",
       "    }\n",
       "\n",
       "    .dataframe tbody tr th {\n",
       "        vertical-align: top;\n",
       "    }\n",
       "\n",
       "    .dataframe thead th {\n",
       "        text-align: right;\n",
       "    }\n",
       "</style>\n",
       "<table border=\"1\" class=\"dataframe\">\n",
       "  <thead>\n",
       "    <tr style=\"text-align: right;\">\n",
       "      <th></th>\n",
       "      <th>count</th>\n",
       "    </tr>\n",
       "    <tr>\n",
       "      <th>Movie name</th>\n",
       "      <th></th>\n",
       "    </tr>\n",
       "  </thead>\n",
       "  <tbody>\n",
       "    <tr>\n",
       "      <th>Eden</th>\n",
       "      <td>3</td>\n",
       "    </tr>\n",
       "    <tr>\n",
       "      <th>Together</th>\n",
       "      <td>3</td>\n",
       "    </tr>\n",
       "    <tr>\n",
       "      <th>Black Christmas</th>\n",
       "      <td>3</td>\n",
       "    </tr>\n",
       "    <tr>\n",
       "      <th>Point Blank</th>\n",
       "      <td>3</td>\n",
       "    </tr>\n",
       "    <tr>\n",
       "      <th>The Hunter</th>\n",
       "      <td>3</td>\n",
       "    </tr>\n",
       "    <tr>\n",
       "      <th>Gloria</th>\n",
       "      <td>3</td>\n",
       "    </tr>\n",
       "    <tr>\n",
       "      <th>Hamlet</th>\n",
       "      <td>3</td>\n",
       "    </tr>\n",
       "    <tr>\n",
       "      <th>The Take</th>\n",
       "      <td>3</td>\n",
       "    </tr>\n",
       "    <tr>\n",
       "      <th>Pinocchio</th>\n",
       "      <td>3</td>\n",
       "    </tr>\n",
       "    <tr>\n",
       "      <th>Little Women</th>\n",
       "      <td>3</td>\n",
       "    </tr>\n",
       "    <tr>\n",
       "      <th>Life</th>\n",
       "      <td>3</td>\n",
       "    </tr>\n",
       "    <tr>\n",
       "      <th>Great Expectations</th>\n",
       "      <td>3</td>\n",
       "    </tr>\n",
       "    <tr>\n",
       "      <th>Reality</th>\n",
       "      <td>3</td>\n",
       "    </tr>\n",
       "    <tr>\n",
       "      <th>King Kong</th>\n",
       "      <td>3</td>\n",
       "    </tr>\n",
       "    <tr>\n",
       "      <th>Robin Hood</th>\n",
       "      <td>3</td>\n",
       "    </tr>\n",
       "    <tr>\n",
       "      <th>Fever Pitch</th>\n",
       "      <td>3</td>\n",
       "    </tr>\n",
       "    <tr>\n",
       "      <th>Safe</th>\n",
       "      <td>2</td>\n",
       "    </tr>\n",
       "    <tr>\n",
       "      <th>The Host</th>\n",
       "      <td>2</td>\n",
       "    </tr>\n",
       "    <tr>\n",
       "      <th>Babylon</th>\n",
       "      <td>2</td>\n",
       "    </tr>\n",
       "    <tr>\n",
       "      <th>The Magician</th>\n",
       "      <td>2</td>\n",
       "    </tr>\n",
       "  </tbody>\n",
       "</table>\n",
       "</div>"
      ],
      "text/plain": [
       "                    count\n",
       "Movie name               \n",
       "Eden                    3\n",
       "Together                3\n",
       "Black Christmas         3\n",
       "Point Blank             3\n",
       "The Hunter              3\n",
       "Gloria                  3\n",
       "Hamlet                  3\n",
       "The Take                3\n",
       "Pinocchio               3\n",
       "Little Women            3\n",
       "Life                    3\n",
       "Great Expectations      3\n",
       "Reality                 3\n",
       "King Kong               3\n",
       "Robin Hood              3\n",
       "Fever Pitch             3\n",
       "Safe                    2\n",
       "The Host                2\n",
       "Babylon                 2\n",
       "The Magician            2"
      ]
     },
     "metadata": {},
     "output_type": "display_data"
    }
   ],
   "source": [
    "# Show duplicate movie names and their counts\n",
    "duplicate_movies = df[\"Movie name\"].value_counts()\n",
    "duplicate_movies = duplicate_movies[duplicate_movies > 1]\n",
    "\n",
    "print(f\"Number of duplicate movie titles: {len(duplicate_movies)}\")\n",
    "display(duplicate_movies.to_frame(name=\"count\").head(20))"
   ]
  },
  {
   "cell_type": "code",
   "execution_count": 4,
   "id": "bcb67c23",
   "metadata": {
    "execution": {
     "iopub.execute_input": "2025-10-22T19:28:08.343417Z",
     "iopub.status.busy": "2025-10-22T19:28:08.343417Z",
     "iopub.status.idle": "2025-10-22T19:28:11.467534Z",
     "shell.execute_reply": "2025-10-22T19:28:11.467534Z"
    }
   },
   "outputs": [
    {
     "name": "stderr",
     "output_type": "stream",
     "text": [
      "\r",
      "Summarize dataset:   0%|                                                                | 0/5 [00:00<?, ?it/s]"
     ]
    },
    {
     "name": "stderr",
     "output_type": "stream",
     "text": [
      "\r",
      "Summarize dataset:   0%|                                | 0/11 [00:00<?, ?it/s, Describe variable: Movie name]"
     ]
    },
    {
     "name": "stderr",
     "output_type": "stream",
     "text": [
      "\r",
      "Summarize dataset:   0%|                              | 0/11 [00:00<?, ?it/s, Describe variable: Release Date]"
     ]
    },
    {
     "name": "stderr",
     "output_type": "stream",
     "text": [
      "\r",
      "Summarize dataset:   0%|                                   | 0/11 [00:00<?, ?it/s, Describe variable: summary]"
     ]
    },
    {
     "name": "stderr",
     "output_type": "stream",
     "text": [
      "\r",
      "Summarize dataset:   0%|                            | 0/11 [00:00<?, ?it/s, Describe variable: Website rating]"
     ]
    },
    {
     "name": "stderr",
     "output_type": "stream",
     "text": [
      "\r",
      "Summarize dataset:   0%|                            | 0/11 [00:00<?, ?it/s, Describe variable: Website rating]"
     ]
    },
    {
     "name": "stderr",
     "output_type": "stream",
     "text": [
      "\r",
      "Summarize dataset:   0%|                            | 0/11 [00:00<?, ?it/s, Describe variable: Website rating]"
     ]
    },
    {
     "name": "stderr",
     "output_type": "stream",
     "text": [
      "\n"
     ]
    },
    {
     "name": "stderr",
     "output_type": "stream",
     "text": [
      "\r",
      "  0%|                                                                                   | 0/6 [00:00<?, ?it/s]"
     ]
    },
    {
     "name": "stderr",
     "output_type": "stream",
     "text": [
      "\u001b[A"
     ]
    },
    {
     "name": "stderr",
     "output_type": "stream",
     "text": [
      "\r",
      "Summarize dataset:  18%|███▋                | 2/11 [00:00<00:00, 14.20it/s, Describe variable: Website rating]"
     ]
    },
    {
     "name": "stderr",
     "output_type": "stream",
     "text": [
      "\r",
      "Summarize dataset:  18%|███▋                | 2/11 [00:00<00:00, 14.20it/s, Describe variable: Website rating]"
     ]
    },
    {
     "name": "stderr",
     "output_type": "stream",
     "text": [
      "\r",
      "Summarize dataset:  55%|██████████▉         | 6/11 [00:00<00:00,  8.57it/s, Describe variable: Website rating]"
     ]
    },
    {
     "name": "stderr",
     "output_type": "stream",
     "text": [
      "\n"
     ]
    },
    {
     "name": "stderr",
     "output_type": "stream",
     "text": [
      "\r",
      " 67%|██████████████████████████████████████████████████                         | 4/6 [00:00<00:00,  7.29it/s]"
     ]
    },
    {
     "name": "stderr",
     "output_type": "stream",
     "text": [
      "\u001b[A"
     ]
    },
    {
     "name": "stderr",
     "output_type": "stream",
     "text": [
      "\r",
      "100%|███████████████████████████████████████████████████████████████████████████| 6/6 [00:00<00:00, 10.85it/s]"
     ]
    },
    {
     "name": "stderr",
     "output_type": "stream",
     "text": [
      "\n",
      "\r",
      "Summarize dataset:  55%|███████████████████                | 6/11 [00:00<00:00,  8.57it/s, Get variable types]"
     ]
    },
    {
     "name": "stderr",
     "output_type": "stream",
     "text": [
      "\r",
      "Summarize dataset:  58%|████████████████▉            | 7/12 [00:00<00:00,  8.57it/s, Get dataframe statistics]"
     ]
    },
    {
     "name": "stderr",
     "output_type": "stream",
     "text": [
      "\r",
      "Summarize dataset:  62%|████████████████▌          | 8/13 [00:00<00:00,  8.57it/s, Calculate auto correlation]"
     ]
    },
    {
     "name": "stderr",
     "output_type": "stream",
     "text": [
      "\r",
      "Summarize dataset:  69%|████████████████████████▏          | 9/13 [00:00<00:00,  8.57it/s, Get scatter matrix]"
     ]
    },
    {
     "name": "stderr",
     "output_type": "stream",
     "text": [
      "\r",
      "Summarize dataset:  64%|█████████▋     | 9/14 [00:00<00:00,  8.57it/s, scatter Website rating, Website rating]"
     ]
    },
    {
     "name": "stderr",
     "output_type": "stream",
     "text": [
      "\r",
      "Summarize dataset:  59%|███████████████████▍             | 10/17 [00:00<00:00,  8.57it/s, Missing diagram bar]"
     ]
    },
    {
     "name": "stderr",
     "output_type": "stream",
     "text": [
      "\r",
      "Summarize dataset:  65%|█████████████████████▎           | 11/17 [00:00<00:00, 14.55it/s, Missing diagram bar]"
     ]
    },
    {
     "name": "stderr",
     "output_type": "stream",
     "text": [
      "\r",
      "Summarize dataset:  65%|███████████████████▍          | 11/17 [00:00<00:00, 14.55it/s, Missing diagram matrix]"
     ]
    },
    {
     "name": "stderr",
     "output_type": "stream",
     "text": [
      "\r",
      "Summarize dataset:  71%|████████████████████▍        | 12/17 [00:00<00:00, 14.55it/s, Missing diagram heatmap]"
     ]
    },
    {
     "name": "stderr",
     "output_type": "stream",
     "text": [
      "\r",
      "Summarize dataset:  76%|███████████████████████████████▎         | 13/17 [00:00<00:00, 14.55it/s, Take sample]"
     ]
    },
    {
     "name": "stderr",
     "output_type": "stream",
     "text": [
      "\r",
      "Summarize dataset:  82%|█████████████████████████████████▊       | 14/17 [00:00<00:00, 17.40it/s, Take sample]"
     ]
    },
    {
     "name": "stderr",
     "output_type": "stream",
     "text": [
      "\r",
      "Summarize dataset:  82%|██████████████████████████▎     | 14/17 [00:00<00:00, 17.40it/s, Detecting duplicates]"
     ]
    },
    {
     "name": "stderr",
     "output_type": "stream",
     "text": [
      "\r",
      "Summarize dataset:  88%|█████████████████████████████████████     | 15/17 [00:00<00:00, 17.40it/s, Get alerts]"
     ]
    },
    {
     "name": "stderr",
     "output_type": "stream",
     "text": [
      "\r",
      "Summarize dataset:  94%|██████████████████████████▎ | 16/17 [00:00<00:00, 17.40it/s, Get reproduction details]"
     ]
    },
    {
     "name": "stderr",
     "output_type": "stream",
     "text": [
      "\r",
      "Summarize dataset: 100%|███████████████████████████████████████████| 17/17 [00:00<00:00, 17.40it/s, Completed]"
     ]
    },
    {
     "name": "stderr",
     "output_type": "stream",
     "text": [
      "\r",
      "Summarize dataset: 100%|███████████████████████████████████████████| 17/17 [00:00<00:00, 18.40it/s, Completed]"
     ]
    },
    {
     "name": "stderr",
     "output_type": "stream",
     "text": [
      "\n"
     ]
    },
    {
     "name": "stderr",
     "output_type": "stream",
     "text": [
      "\r",
      "Generate report structure:   0%|                                                        | 0/1 [00:00<?, ?it/s]"
     ]
    },
    {
     "name": "stderr",
     "output_type": "stream",
     "text": [
      "\r",
      "Generate report structure: 100%|████████████████████████████████████████████████| 1/1 [00:01<00:00,  1.62s/it]"
     ]
    },
    {
     "name": "stderr",
     "output_type": "stream",
     "text": [
      "\r",
      "Generate report structure: 100%|████████████████████████████████████████████████| 1/1 [00:01<00:00,  1.62s/it]"
     ]
    },
    {
     "name": "stderr",
     "output_type": "stream",
     "text": [
      "\n"
     ]
    },
    {
     "name": "stderr",
     "output_type": "stream",
     "text": [
      "\r",
      "Render HTML:   0%|                                                                      | 0/1 [00:00<?, ?it/s]"
     ]
    },
    {
     "name": "stderr",
     "output_type": "stream",
     "text": [
      "\r",
      "Render HTML: 100%|██████████████████████████████████████████████████████████████| 1/1 [00:00<00:00,  7.92it/s]"
     ]
    },
    {
     "name": "stderr",
     "output_type": "stream",
     "text": [
      "\r",
      "Render HTML: 100%|██████████████████████████████████████████████████████████████| 1/1 [00:00<00:00,  7.92it/s]"
     ]
    },
    {
     "name": "stderr",
     "output_type": "stream",
     "text": [
      "\n"
     ]
    },
    {
     "name": "stderr",
     "output_type": "stream",
     "text": [
      "\r",
      "Export report to file:   0%|                                                            | 0/1 [00:00<?, ?it/s]"
     ]
    },
    {
     "name": "stderr",
     "output_type": "stream",
     "text": [
      "\r",
      "Export report to file: 100%|███████████████████████████████████████████████████| 1/1 [00:00<00:00, 250.00it/s]"
     ]
    },
    {
     "name": "stderr",
     "output_type": "stream",
     "text": [
      "\n"
     ]
    }
   ],
   "source": [
    "# Generate profile report\n",
    "profile = ProfileReport(df, title=\"Metacritic Dataset Profile\", explorative=True)\n",
    "\n",
    "# Save to HTML file\n",
    "profile.to_file(\"../data/reports/metacritic_profile.html\")"
   ]
  }
 ],
 "metadata": {
  "kernelspec": {
   "display_name": "movie_env",
   "language": "python",
   "name": "python3"
  },
  "language_info": {
   "codemirror_mode": {
    "name": "ipython",
    "version": 3
   },
   "file_extension": ".py",
   "mimetype": "text/x-python",
   "name": "python",
   "nbconvert_exporter": "python",
   "pygments_lexer": "ipython3",
   "version": "3.12.6"
  }
 },
 "nbformat": 4,
 "nbformat_minor": 5
}
