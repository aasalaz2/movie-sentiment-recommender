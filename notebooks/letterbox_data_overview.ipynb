{
 "cells": [
  {
   "cell_type": "code",
   "execution_count": 1,
   "id": "ce7f1f08",
   "metadata": {
    "execution": {
     "iopub.execute_input": "2025-10-20T03:15:52.831543Z",
     "iopub.status.busy": "2025-10-20T03:15:52.831543Z",
     "iopub.status.idle": "2025-10-20T03:15:55.216295Z",
     "shell.execute_reply": "2025-10-20T03:15:55.216295Z"
    }
   },
   "outputs": [
    {
     "name": "stderr",
     "output_type": "stream",
     "text": [
      "E:\\UIUC Classes\\CS 410 - Text Information Systems\\movie-sentiment-recommender\\movie_env\\Lib\\site-packages\\tqdm\\auto.py:21: TqdmWarning: IProgress not found. Please update jupyter and ipywidgets. See https://ipywidgets.readthedocs.io/en/stable/user_install.html\n",
      "  from .autonotebook import tqdm as notebook_tqdm\n"
     ]
    },
    {
     "data": {
      "text/html": [
       "\n",
       "            <div>\n",
       "                <ins><a href=\"https://ydata.ai/register\">Upgrade to ydata-sdk</a></ins>\n",
       "                <p>\n",
       "                    Improve your data and profiling with ydata-sdk, featuring data quality scoring, redundancy detection, outlier identification, text validation, and synthetic data generation.\n",
       "                </p>\n",
       "            </div>\n",
       "            "
      ],
      "text/plain": [
       "<IPython.core.display.HTML object>"
      ]
     },
     "metadata": {},
     "output_type": "display_data"
    }
   ],
   "source": [
    "import pandas as pd\n",
    "from ydata_profiling import ProfileReport"
   ]
  },
  {
   "cell_type": "code",
   "execution_count": 2,
   "id": "399e7643",
   "metadata": {
    "execution": {
     "iopub.execute_input": "2025-10-20T03:15:55.216295Z",
     "iopub.status.busy": "2025-10-20T03:15:55.216295Z",
     "iopub.status.idle": "2025-10-20T03:15:58.785542Z",
     "shell.execute_reply": "2025-10-20T03:15:58.785542Z"
    }
   },
   "outputs": [
    {
     "name": "stderr",
     "output_type": "stream",
     "text": [
      "\r",
      "Summarize dataset:   0%|                                                                | 0/5 [00:00<?, ?it/s]"
     ]
    },
    {
     "name": "stderr",
     "output_type": "stream",
     "text": [
      "\r",
      "Summarize dataset:   0%|                                | 0/13 [00:00<?, ?it/s, Describe variable: Movie name]"
     ]
    },
    {
     "name": "stderr",
     "output_type": "stream",
     "text": [
      "\r",
      "Summarize dataset:   0%|                              | 0/13 [00:00<?, ?it/s, Describe variable: Release Year]"
     ]
    },
    {
     "name": "stderr",
     "output_type": "stream",
     "text": [
      "\r",
      "Summarize dataset:   0%|                             | 0/13 [00:00<?, ?it/s, Describe variable: Reviewer name]"
     ]
    },
    {
     "name": "stderr",
     "output_type": "stream",
     "text": [
      "\r",
      "Summarize dataset:   0%|                             | 0/13 [00:00<?, ?it/s, Describe variable: Reviewer name]"
     ]
    },
    {
     "name": "stderr",
     "output_type": "stream",
     "text": [
      "\r",
      "Summarize dataset:   0%|                               | 0/13 [00:00<?, ?it/s, Describe variable: Review date]"
     ]
    },
    {
     "name": "stderr",
     "output_type": "stream",
     "text": [
      "\r",
      "Summarize dataset:   0%|                                    | 0/13 [00:00<?, ?it/s, Describe variable: Review]"
     ]
    },
    {
     "name": "stderr",
     "output_type": "stream",
     "text": [
      "\r",
      "Summarize dataset:   0%|                             | 0/13 [00:00<?, ?it/s, Describe variable: Comment count]"
     ]
    },
    {
     "name": "stderr",
     "output_type": "stream",
     "text": [
      "\r",
      "Summarize dataset:   0%|                                | 0/13 [00:00<?, ?it/s, Describe variable: Like count]"
     ]
    },
    {
     "name": "stderr",
     "output_type": "stream",
     "text": [
      "\n"
     ]
    },
    {
     "name": "stderr",
     "output_type": "stream",
     "text": [
      "\r",
      "  0%|                                                                                   | 0/8 [00:00<?, ?it/s]"
     ]
    },
    {
     "name": "stderr",
     "output_type": "stream",
     "text": [
      "\u001b[A"
     ]
    },
    {
     "name": "stderr",
     "output_type": "stream",
     "text": [
      "\r",
      "Summarize dataset:   8%|█▊                      | 1/13 [00:00<00:01,  8.49it/s, Describe variable: Like count]"
     ]
    },
    {
     "name": "stderr",
     "output_type": "stream",
     "text": [
      "\n"
     ]
    },
    {
     "name": "stderr",
     "output_type": "stream",
     "text": [
      "\r",
      " 38%|████████████████████████████▏                                              | 3/8 [00:00<00:00, 22.59it/s]"
     ]
    },
    {
     "name": "stderr",
     "output_type": "stream",
     "text": [
      "\u001b[A"
     ]
    },
    {
     "name": "stderr",
     "output_type": "stream",
     "text": [
      "\r",
      "100%|███████████████████████████████████████████████████████████████████████████| 8/8 [00:00<00:00, 51.67it/s]"
     ]
    },
    {
     "name": "stderr",
     "output_type": "stream",
     "text": [
      "\n",
      "\r",
      "Summarize dataset:  62%|█████████████████████▌             | 8/13 [00:00<00:00,  8.49it/s, Get variable types]"
     ]
    },
    {
     "name": "stderr",
     "output_type": "stream",
     "text": [
      "\r",
      "Summarize dataset:  64%|██████████████████▋          | 9/14 [00:00<00:00,  8.49it/s, Get dataframe statistics]"
     ]
    },
    {
     "name": "stderr",
     "output_type": "stream",
     "text": [
      "\r",
      "Summarize dataset:  67%|█████████████████▎        | 10/15 [00:00<00:00,  8.49it/s, Calculate auto correlation]"
     ]
    },
    {
     "name": "stderr",
     "output_type": "stream",
     "text": [
      "\r",
      "Summarize dataset:  73%|████████████████████████▉         | 11/15 [00:00<00:00,  8.49it/s, Get scatter matrix]"
     ]
    },
    {
     "name": "stderr",
     "output_type": "stream",
     "text": [
      "\r",
      "Summarize dataset:  61%|████████████████████▏            | 11/18 [00:00<00:00,  8.49it/s, Missing diagram bar]"
     ]
    },
    {
     "name": "stderr",
     "output_type": "stream",
     "text": [
      "\r",
      "Summarize dataset:  67%|██████████████████████           | 12/18 [00:00<00:00, 48.97it/s, Missing diagram bar]"
     ]
    },
    {
     "name": "stderr",
     "output_type": "stream",
     "text": [
      "\r",
      "Summarize dataset:  67%|████████████████████          | 12/18 [00:00<00:00, 48.97it/s, Missing diagram matrix]"
     ]
    },
    {
     "name": "stderr",
     "output_type": "stream",
     "text": [
      "\r",
      "Summarize dataset:  72%|████████████████████▉        | 13/18 [00:00<00:00, 48.97it/s, Missing diagram heatmap]"
     ]
    },
    {
     "name": "stderr",
     "output_type": "stream",
     "text": [
      "\r",
      "Summarize dataset:  78%|███████████████████████████████▉         | 14/18 [00:00<00:00, 48.97it/s, Take sample]"
     ]
    },
    {
     "name": "stderr",
     "output_type": "stream",
     "text": [
      "\r",
      "Summarize dataset:  83%|██████████████████████████▋     | 15/18 [00:00<00:00, 48.97it/s, Detecting duplicates]"
     ]
    },
    {
     "name": "stderr",
     "output_type": "stream",
     "text": [
      "\r",
      "Summarize dataset:  89%|█████████████████████████████████████▎    | 16/18 [00:00<00:00, 48.97it/s, Get alerts]"
     ]
    },
    {
     "name": "stderr",
     "output_type": "stream",
     "text": [
      "\r",
      "Summarize dataset:  94%|███████████████████████████████████████▋  | 17/18 [00:00<00:00, 45.12it/s, Get alerts]"
     ]
    },
    {
     "name": "stderr",
     "output_type": "stream",
     "text": [
      "\r",
      "Summarize dataset:  94%|██████████████████████████▍ | 17/18 [00:00<00:00, 45.12it/s, Get reproduction details]"
     ]
    },
    {
     "name": "stderr",
     "output_type": "stream",
     "text": [
      "\r",
      "Summarize dataset: 100%|███████████████████████████████████████████| 18/18 [00:00<00:00, 45.12it/s, Completed]"
     ]
    },
    {
     "name": "stderr",
     "output_type": "stream",
     "text": [
      "\r",
      "Summarize dataset: 100%|███████████████████████████████████████████| 18/18 [00:00<00:00, 43.35it/s, Completed]"
     ]
    },
    {
     "name": "stderr",
     "output_type": "stream",
     "text": [
      "\n"
     ]
    },
    {
     "name": "stderr",
     "output_type": "stream",
     "text": [
      "\r",
      "Generate report structure:   0%|                                                        | 0/1 [00:00<?, ?it/s]"
     ]
    },
    {
     "name": "stderr",
     "output_type": "stream",
     "text": [
      "\r",
      "Generate report structure: 100%|████████████████████████████████████████████████| 1/1 [00:02<00:00,  2.33s/it]"
     ]
    },
    {
     "name": "stderr",
     "output_type": "stream",
     "text": [
      "\r",
      "Generate report structure: 100%|████████████████████████████████████████████████| 1/1 [00:02<00:00,  2.33s/it]"
     ]
    },
    {
     "name": "stderr",
     "output_type": "stream",
     "text": [
      "\n"
     ]
    },
    {
     "name": "stderr",
     "output_type": "stream",
     "text": [
      "\r",
      "Render HTML:   0%|                                                                      | 0/1 [00:00<?, ?it/s]"
     ]
    },
    {
     "name": "stderr",
     "output_type": "stream",
     "text": [
      "\r",
      "Render HTML: 100%|██████████████████████████████████████████████████████████████| 1/1 [00:00<00:00,  6.71it/s]"
     ]
    },
    {
     "name": "stderr",
     "output_type": "stream",
     "text": [
      "\r",
      "Render HTML: 100%|██████████████████████████████████████████████████████████████| 1/1 [00:00<00:00,  6.66it/s]"
     ]
    },
    {
     "name": "stderr",
     "output_type": "stream",
     "text": [
      "\n"
     ]
    },
    {
     "name": "stderr",
     "output_type": "stream",
     "text": [
      "\r",
      "Export report to file:   0%|                                                            | 0/1 [00:00<?, ?it/s]"
     ]
    },
    {
     "name": "stderr",
     "output_type": "stream",
     "text": [
      "\r",
      "Export report to file: 100%|███████████████████████████████████████████████████| 1/1 [00:00<00:00, 179.09it/s]"
     ]
    },
    {
     "name": "stderr",
     "output_type": "stream",
     "text": [
      "\n"
     ]
    }
   ],
   "source": [
    "# Load dataset\n",
    "df = pd.read_csv(\"../data/raw/letterboxd-reviews.csv\", encoding='latin1')\n",
    "\n",
    "# Generate profile report\n",
    "profile = ProfileReport(df, title=\"Movie Reviews Dataset Profile\", explorative=True)\n",
    "\n",
    "# Save to HTML file\n",
    "profile.to_file(\"../data/reports/letterbox_profile.html\")"
   ]
  }
 ],
 "metadata": {
  "kernelspec": {
   "display_name": "movie_env",
   "language": "python",
   "name": "python3"
  },
  "language_info": {
   "codemirror_mode": {
    "name": "ipython",
    "version": 3
   },
   "file_extension": ".py",
   "mimetype": "text/x-python",
   "name": "python",
   "nbconvert_exporter": "python",
   "pygments_lexer": "ipython3",
   "version": "3.12.6"
  }
 },
 "nbformat": 4,
 "nbformat_minor": 5
}
