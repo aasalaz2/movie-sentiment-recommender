{
 "cells": [
  {
   "cell_type": "code",
   "execution_count": 1,
   "id": "ce7f1f08",
   "metadata": {
    "execution": {
     "iopub.execute_input": "2025-10-22T19:27:48.252283Z",
     "iopub.status.busy": "2025-10-22T19:27:48.252283Z",
     "iopub.status.idle": "2025-10-22T19:27:50.613853Z",
     "shell.execute_reply": "2025-10-22T19:27:50.613853Z"
    }
   },
   "outputs": [
    {
     "name": "stderr",
     "output_type": "stream",
     "text": [
      "E:\\UIUC Classes\\CS 410 - Text Information Systems\\movie-sentiment-recommender\\movie_env\\Lib\\site-packages\\tqdm\\auto.py:21: TqdmWarning: IProgress not found. Please update jupyter and ipywidgets. See https://ipywidgets.readthedocs.io/en/stable/user_install.html\n",
      "  from .autonotebook import tqdm as notebook_tqdm\n"
     ]
    },
    {
     "data": {
      "text/html": [
       "\n",
       "            <div>\n",
       "                <ins><a href=\"https://ydata.ai/register\">Upgrade to ydata-sdk</a></ins>\n",
       "                <p>\n",
       "                    Improve your data and profiling with ydata-sdk, featuring data quality scoring, redundancy detection, outlier identification, text validation, and synthetic data generation.\n",
       "                </p>\n",
       "            </div>\n",
       "            "
      ],
      "text/plain": [
       "<IPython.core.display.HTML object>"
      ]
     },
     "metadata": {},
     "output_type": "display_data"
    }
   ],
   "source": [
    "import pandas as pd\n",
    "from ydata_profiling import ProfileReport"
   ]
  },
  {
   "cell_type": "code",
   "execution_count": 2,
   "id": "3e88fda8",
   "metadata": {
    "execution": {
     "iopub.execute_input": "2025-10-22T19:27:50.615858Z",
     "iopub.status.busy": "2025-10-22T19:27:50.615858Z",
     "iopub.status.idle": "2025-10-22T19:27:50.637913Z",
     "shell.execute_reply": "2025-10-22T19:27:50.637913Z"
    }
   },
   "outputs": [
    {
     "name": "stdout",
     "output_type": "stream",
     "text": [
      "<class 'pandas.core.frame.DataFrame'>\n",
      "RangeIndex: 4596 entries, 0 to 4595\n",
      "Data columns (total 8 columns):\n",
      " #   Column         Non-Null Count  Dtype \n",
      "---  ------         --------------  ----- \n",
      " 0   Movie name     4596 non-null   object\n",
      " 1   Release Year   4578 non-null   object\n",
      " 2   Rating         4287 non-null   object\n",
      " 3   Reviewer name  4596 non-null   object\n",
      " 4   Review date    4370 non-null   object\n",
      " 5   Review         3560 non-null   object\n",
      " 6   Comment count  4273 non-null   object\n",
      " 7   Like count     3318 non-null   object\n",
      "dtypes: object(8)\n",
      "memory usage: 287.4+ KB\n"
     ]
    },
    {
     "data": {
      "text/plain": [
       "None"
      ]
     },
     "metadata": {},
     "output_type": "display_data"
    },
    {
     "data": {
      "text/html": [
       "<div>\n",
       "<style scoped>\n",
       "    .dataframe tbody tr th:only-of-type {\n",
       "        vertical-align: middle;\n",
       "    }\n",
       "\n",
       "    .dataframe tbody tr th {\n",
       "        vertical-align: top;\n",
       "    }\n",
       "\n",
       "    .dataframe thead th {\n",
       "        text-align: right;\n",
       "    }\n",
       "</style>\n",
       "<table border=\"1\" class=\"dataframe\">\n",
       "  <thead>\n",
       "    <tr style=\"text-align: right;\">\n",
       "      <th></th>\n",
       "      <th>Movie name</th>\n",
       "      <th>Release Year</th>\n",
       "      <th>Rating</th>\n",
       "      <th>Reviewer name</th>\n",
       "      <th>Review date</th>\n",
       "      <th>Review</th>\n",
       "      <th>Comment count</th>\n",
       "      <th>Like count</th>\n",
       "    </tr>\n",
       "  </thead>\n",
       "  <tbody>\n",
       "    <tr>\n",
       "      <th>0</th>\n",
       "      <td>Aftersun (2022)</td>\n",
       "      <td>2022</td>\n",
       "      <td>â??â??â??â??Â½</td>\n",
       "      <td>Tuomas</td>\n",
       "      <td>12-Jan-20</td>\n",
       "      <td>This review may contain spoilers.</td>\n",
       "      <td>130</td>\n",
       "      <td>22,44 6   likes</td>\n",
       "    </tr>\n",
       "    <tr>\n",
       "      <th>1</th>\n",
       "      <td>Joker (2019)</td>\n",
       "      <td>2019</td>\n",
       "      <td>â??â??â??â??â??</td>\n",
       "      <td>Joao</td>\n",
       "      <td>20-Dec-22</td>\n",
       "      <td>if youâ??ve never swam in the ocean then of co...</td>\n",
       "      <td>1.8K</td>\n",
       "      <td>22,032 likes</td>\n",
       "    </tr>\n",
       "    <tr>\n",
       "      <th>2</th>\n",
       "      <td>Puss in Boots: The Last Wish (2022)</td>\n",
       "      <td>2022</td>\n",
       "      <td>â??Â½</td>\n",
       "      <td>NicoPico</td>\n",
       "      <td>15-Sep-22</td>\n",
       "      <td>Puss in Boots: Into the Pussy-Verse</td>\n",
       "      <td>6  2</td>\n",
       "      <td>21, 6   6   6   likes</td>\n",
       "    </tr>\n",
       "    <tr>\n",
       "      <th>3</th>\n",
       "      <td>The Banshees of Inisherin (2022)</td>\n",
       "      <td>2022</td>\n",
       "      <td>â??â??â??â??â??</td>\n",
       "      <td>Ella Kemp</td>\n",
       "      <td>8-Apr-22</td>\n",
       "      <td>I will NOT leave my donkey outside when Iâ??m sad</td>\n",
       "      <td>NaN</td>\n",
       "      <td>21, 6  09 likes</td>\n",
       "    </tr>\n",
       "    <tr>\n",
       "      <th>4</th>\n",
       "      <td>Everything Everywhere All at Once (2022)</td>\n",
       "      <td>2022</td>\n",
       "      <td>â??â??Â½</td>\n",
       "      <td>CosmonautMarkie</td>\n",
       "      <td>14-Aug-19</td>\n",
       "      <td>Watch it and have fun before film Twitter tell...</td>\n",
       "      <td>355</td>\n",
       "      <td>20, 6  88 likes</td>\n",
       "    </tr>\n",
       "  </tbody>\n",
       "</table>\n",
       "</div>"
      ],
      "text/plain": [
       "                                 Movie name Release Year           Rating  \\\n",
       "0                           Aftersun (2022)         2022   â??â??â??â??Â½   \n",
       "1                              Joker (2019)         2019  â??â??â??â??â??   \n",
       "2       Puss in Boots: The Last Wish (2022)         2022            â??Â½   \n",
       "3          The Banshees of Inisherin (2022)         2022  â??â??â??â??â??   \n",
       "4  Everything Everywhere All at Once (2022)         2022         â??â??Â½   \n",
       "\n",
       "     Reviewer name Review date  \\\n",
       "0           Tuomas   12-Jan-20   \n",
       "1             Joao   20-Dec-22   \n",
       "2         NicoPico   15-Sep-22   \n",
       "3        Ella Kemp    8-Apr-22   \n",
       "4  CosmonautMarkie   14-Aug-19   \n",
       "\n",
       "                                              Review Comment count  \\\n",
       "0                  This review may contain spoilers.           130   \n",
       "1  if youâ??ve never swam in the ocean then of co...          1.8K   \n",
       "2                Puss in Boots: Into the Pussy-Verse          6  2   \n",
       "3  I will NOT leave my donkey outside when Iâ??m sad           NaN   \n",
       "4  Watch it and have fun before film Twitter tell...           355   \n",
       "\n",
       "              Like count  \n",
       "0        22,44 6   likes  \n",
       "1           22,032 likes  \n",
       "2  21, 6   6   6   likes  \n",
       "3        21, 6  09 likes  \n",
       "4        20, 6  88 likes  "
      ]
     },
     "metadata": {},
     "output_type": "display_data"
    }
   ],
   "source": [
    "# Load dataset\n",
    "df = pd.read_csv(\"../data/raw/letterboxd-reviews.csv\", encoding='latin1')\n",
    "\n",
    "# Show basic info\n",
    "display(df.info())\n",
    "display(df.head())"
   ]
  },
  {
   "cell_type": "code",
   "execution_count": 3,
   "id": "783b67e4",
   "metadata": {
    "execution": {
     "iopub.execute_input": "2025-10-22T19:27:50.639919Z",
     "iopub.status.busy": "2025-10-22T19:27:50.638918Z",
     "iopub.status.idle": "2025-10-22T19:27:50.645260Z",
     "shell.execute_reply": "2025-10-22T19:27:50.645260Z"
    }
   },
   "outputs": [
    {
     "name": "stdout",
     "output_type": "stream",
     "text": [
      "Number of duplicate movie titles: 765\n"
     ]
    },
    {
     "data": {
      "text/html": [
       "<div>\n",
       "<style scoped>\n",
       "    .dataframe tbody tr th:only-of-type {\n",
       "        vertical-align: middle;\n",
       "    }\n",
       "\n",
       "    .dataframe tbody tr th {\n",
       "        vertical-align: top;\n",
       "    }\n",
       "\n",
       "    .dataframe thead th {\n",
       "        text-align: right;\n",
       "    }\n",
       "</style>\n",
       "<table border=\"1\" class=\"dataframe\">\n",
       "  <thead>\n",
       "    <tr style=\"text-align: right;\">\n",
       "      <th></th>\n",
       "      <th>count</th>\n",
       "    </tr>\n",
       "    <tr>\n",
       "      <th>Movie name</th>\n",
       "      <th></th>\n",
       "    </tr>\n",
       "  </thead>\n",
       "  <tbody>\n",
       "    <tr>\n",
       "      <th>Everything Everywhere All at Once</th>\n",
       "      <td>29</td>\n",
       "    </tr>\n",
       "    <tr>\n",
       "      <th>The Menu</th>\n",
       "      <td>29</td>\n",
       "    </tr>\n",
       "    <tr>\n",
       "      <th>Donâ??t Worry Darling</th>\n",
       "      <td>28</td>\n",
       "    </tr>\n",
       "    <tr>\n",
       "      <th>Scream</th>\n",
       "      <td>28</td>\n",
       "    </tr>\n",
       "    <tr>\n",
       "      <th>The Batman</th>\n",
       "      <td>27</td>\n",
       "    </tr>\n",
       "    <tr>\n",
       "      <th>Glass Onion: A Knives Out Mystery</th>\n",
       "      <td>27</td>\n",
       "    </tr>\n",
       "    <tr>\n",
       "      <th>Dune</th>\n",
       "      <td>25</td>\n",
       "    </tr>\n",
       "    <tr>\n",
       "      <th>Barbarian</th>\n",
       "      <td>25</td>\n",
       "    </tr>\n",
       "    <tr>\n",
       "      <th>Nope</th>\n",
       "      <td>23</td>\n",
       "    </tr>\n",
       "    <tr>\n",
       "      <th>X</th>\n",
       "      <td>22</td>\n",
       "    </tr>\n",
       "    <tr>\n",
       "      <th>Top Gun: Maverick</th>\n",
       "      <td>22</td>\n",
       "    </tr>\n",
       "    <tr>\n",
       "      <th>Doctor Strange in the Multiverse of Madness</th>\n",
       "      <td>21</td>\n",
       "    </tr>\n",
       "    <tr>\n",
       "      <th>Babylon</th>\n",
       "      <td>21</td>\n",
       "    </tr>\n",
       "    <tr>\n",
       "      <th>TÃR</th>\n",
       "      <td>21</td>\n",
       "    </tr>\n",
       "    <tr>\n",
       "      <th>Portrait of a Lady on Fire</th>\n",
       "      <td>20</td>\n",
       "    </tr>\n",
       "    <tr>\n",
       "      <th>The Banshees of Inisherin</th>\n",
       "      <td>19</td>\n",
       "    </tr>\n",
       "    <tr>\n",
       "      <th>Aftersun</th>\n",
       "      <td>19</td>\n",
       "    </tr>\n",
       "    <tr>\n",
       "      <th>Spider-Man: No Way Home</th>\n",
       "      <td>19</td>\n",
       "    </tr>\n",
       "    <tr>\n",
       "      <th>Gone Girl</th>\n",
       "      <td>18</td>\n",
       "    </tr>\n",
       "    <tr>\n",
       "      <th>American Psycho</th>\n",
       "      <td>18</td>\n",
       "    </tr>\n",
       "  </tbody>\n",
       "</table>\n",
       "</div>"
      ],
      "text/plain": [
       "                                             count\n",
       "Movie name                                        \n",
       "Everything Everywhere All at Once               29\n",
       "The Menu                                        29\n",
       "Donâ??t Worry Darling                           28\n",
       "Scream                                          28\n",
       "The Batman                                      27\n",
       "Glass Onion: A Knives Out Mystery               27\n",
       "Dune                                            25\n",
       "Barbarian                                       25\n",
       "Nope                                            23\n",
       "X                                               22\n",
       "Top Gun: Maverick                               22\n",
       "Doctor Strange in the Multiverse of Madness     21\n",
       "Babylon                                         21\n",
       "TÃR                                            21\n",
       "Portrait of a Lady on Fire                      20\n",
       "The Banshees of Inisherin                       19\n",
       "Aftersun                                        19\n",
       "Spider-Man: No Way Home                         19\n",
       "Gone Girl                                       18\n",
       "American Psycho                                 18"
      ]
     },
     "metadata": {},
     "output_type": "display_data"
    }
   ],
   "source": [
    "# Show duplicate movie names and their counts\n",
    "duplicate_movies = df[\"Movie name\"].value_counts()\n",
    "duplicate_movies = duplicate_movies[duplicate_movies > 1]\n",
    "\n",
    "print(f\"Number of duplicate movie titles: {len(duplicate_movies)}\")\n",
    "display(duplicate_movies.to_frame(name=\"count\").head(20))"
   ]
  },
  {
   "cell_type": "code",
   "execution_count": 4,
   "id": "399e7643",
   "metadata": {
    "execution": {
     "iopub.execute_input": "2025-10-22T19:27:50.646266Z",
     "iopub.status.busy": "2025-10-22T19:27:50.646266Z",
     "iopub.status.idle": "2025-10-22T19:27:54.105687Z",
     "shell.execute_reply": "2025-10-22T19:27:54.105687Z"
    }
   },
   "outputs": [
    {
     "name": "stderr",
     "output_type": "stream",
     "text": [
      "\r",
      "Summarize dataset:   0%|                                                                | 0/5 [00:00<?, ?it/s]"
     ]
    },
    {
     "name": "stderr",
     "output_type": "stream",
     "text": [
      "\r",
      "Summarize dataset:   0%|                                | 0/13 [00:00<?, ?it/s, Describe variable: Movie name]"
     ]
    },
    {
     "name": "stderr",
     "output_type": "stream",
     "text": [
      "\r",
      "Summarize dataset:   0%|                              | 0/13 [00:00<?, ?it/s, Describe variable: Release Year]"
     ]
    },
    {
     "name": "stderr",
     "output_type": "stream",
     "text": [
      "\r",
      "Summarize dataset:   0%|                                    | 0/13 [00:00<?, ?it/s, Describe variable: Rating]"
     ]
    },
    {
     "name": "stderr",
     "output_type": "stream",
     "text": [
      "\r",
      "Summarize dataset:   0%|                             | 0/13 [00:00<?, ?it/s, Describe variable: Reviewer name]"
     ]
    },
    {
     "name": "stderr",
     "output_type": "stream",
     "text": [
      "\r",
      "Summarize dataset:   0%|                               | 0/13 [00:00<?, ?it/s, Describe variable: Review date]"
     ]
    },
    {
     "name": "stderr",
     "output_type": "stream",
     "text": [
      "\r",
      "Summarize dataset:   0%|                                | 0/13 [00:00<?, ?it/s, Describe variable: Like count]"
     ]
    },
    {
     "name": "stderr",
     "output_type": "stream",
     "text": [
      "\r",
      "Summarize dataset:   0%|                                | 0/13 [00:00<?, ?it/s, Describe variable: Like count]"
     ]
    },
    {
     "name": "stderr",
     "output_type": "stream",
     "text": [
      "\r",
      "Summarize dataset:   0%|                                | 0/13 [00:00<?, ?it/s, Describe variable: Like count]"
     ]
    },
    {
     "name": "stderr",
     "output_type": "stream",
     "text": [
      "\n"
     ]
    },
    {
     "name": "stderr",
     "output_type": "stream",
     "text": [
      "\r",
      "  0%|                                                                                   | 0/8 [00:00<?, ?it/s]"
     ]
    },
    {
     "name": "stderr",
     "output_type": "stream",
     "text": [
      "\u001b[A"
     ]
    },
    {
     "name": "stderr",
     "output_type": "stream",
     "text": [
      "\r",
      "Summarize dataset:  15%|███▋                    | 2/13 [00:00<00:00, 14.98it/s, Describe variable: Like count]"
     ]
    },
    {
     "name": "stderr",
     "output_type": "stream",
     "text": [
      "\n"
     ]
    },
    {
     "name": "stderr",
     "output_type": "stream",
     "text": [
      "\r",
      " 75%|████████████████████████████████████████████████████████▎                  | 6/8 [00:00<00:00, 55.33it/s]"
     ]
    },
    {
     "name": "stderr",
     "output_type": "stream",
     "text": [
      "\u001b[A"
     ]
    },
    {
     "name": "stderr",
     "output_type": "stream",
     "text": [
      "\r",
      "100%|███████████████████████████████████████████████████████████████████████████| 8/8 [00:00<00:00, 73.77it/s]"
     ]
    },
    {
     "name": "stderr",
     "output_type": "stream",
     "text": [
      "\n",
      "\r",
      "Summarize dataset:  62%|█████████████████████▌             | 8/13 [00:00<00:00, 14.98it/s, Get variable types]"
     ]
    },
    {
     "name": "stderr",
     "output_type": "stream",
     "text": [
      "\r",
      "Summarize dataset:  64%|██████████████████▋          | 9/14 [00:00<00:00, 14.98it/s, Get dataframe statistics]"
     ]
    },
    {
     "name": "stderr",
     "output_type": "stream",
     "text": [
      "\r",
      "Summarize dataset:  67%|█████████████████▎        | 10/15 [00:00<00:00, 14.98it/s, Calculate auto correlation]"
     ]
    },
    {
     "name": "stderr",
     "output_type": "stream",
     "text": [
      "\r",
      "Summarize dataset:  73%|████████████████████████▉         | 11/15 [00:00<00:00, 14.98it/s, Get scatter matrix]"
     ]
    },
    {
     "name": "stderr",
     "output_type": "stream",
     "text": [
      "\r",
      "Summarize dataset:  61%|████████████████████▏            | 11/18 [00:00<00:00, 14.98it/s, Missing diagram bar]"
     ]
    },
    {
     "name": "stderr",
     "output_type": "stream",
     "text": [
      "\r",
      "Summarize dataset:  67%|██████████████████████           | 12/18 [00:00<00:00, 48.47it/s, Missing diagram bar]"
     ]
    },
    {
     "name": "stderr",
     "output_type": "stream",
     "text": [
      "\r",
      "Summarize dataset:  67%|████████████████████          | 12/18 [00:00<00:00, 48.47it/s, Missing diagram matrix]"
     ]
    },
    {
     "name": "stderr",
     "output_type": "stream",
     "text": [
      "\r",
      "Summarize dataset:  72%|████████████████████▉        | 13/18 [00:00<00:00, 48.47it/s, Missing diagram heatmap]"
     ]
    },
    {
     "name": "stderr",
     "output_type": "stream",
     "text": [
      "\r",
      "Summarize dataset:  78%|███████████████████████████████▉         | 14/18 [00:00<00:00, 48.47it/s, Take sample]"
     ]
    },
    {
     "name": "stderr",
     "output_type": "stream",
     "text": [
      "\r",
      "Summarize dataset:  83%|██████████████████████████▋     | 15/18 [00:00<00:00, 48.47it/s, Detecting duplicates]"
     ]
    },
    {
     "name": "stderr",
     "output_type": "stream",
     "text": [
      "\r",
      "Summarize dataset:  89%|█████████████████████████████████████▎    | 16/18 [00:00<00:00, 48.47it/s, Get alerts]"
     ]
    },
    {
     "name": "stderr",
     "output_type": "stream",
     "text": [
      "\r",
      "Summarize dataset:  94%|███████████████████████████████████████▋  | 17/18 [00:00<00:00, 43.60it/s, Get alerts]"
     ]
    },
    {
     "name": "stderr",
     "output_type": "stream",
     "text": [
      "\r",
      "Summarize dataset:  94%|██████████████████████████▍ | 17/18 [00:00<00:00, 43.60it/s, Get reproduction details]"
     ]
    },
    {
     "name": "stderr",
     "output_type": "stream",
     "text": [
      "\r",
      "Summarize dataset: 100%|███████████████████████████████████████████| 18/18 [00:00<00:00, 43.60it/s, Completed]"
     ]
    },
    {
     "name": "stderr",
     "output_type": "stream",
     "text": [
      "\r",
      "Summarize dataset: 100%|███████████████████████████████████████████| 18/18 [00:00<00:00, 43.87it/s, Completed]"
     ]
    },
    {
     "name": "stderr",
     "output_type": "stream",
     "text": [
      "\n"
     ]
    },
    {
     "name": "stderr",
     "output_type": "stream",
     "text": [
      "\r",
      "Generate report structure:   0%|                                                        | 0/1 [00:00<?, ?it/s]"
     ]
    },
    {
     "name": "stderr",
     "output_type": "stream",
     "text": [
      "\r",
      "Generate report structure: 100%|████████████████████████████████████████████████| 1/1 [00:02<00:00,  2.35s/it]"
     ]
    },
    {
     "name": "stderr",
     "output_type": "stream",
     "text": [
      "\r",
      "Generate report structure: 100%|████████████████████████████████████████████████| 1/1 [00:02<00:00,  2.35s/it]"
     ]
    },
    {
     "name": "stderr",
     "output_type": "stream",
     "text": [
      "\n"
     ]
    },
    {
     "name": "stderr",
     "output_type": "stream",
     "text": [
      "\r",
      "Render HTML:   0%|                                                                      | 0/1 [00:00<?, ?it/s]"
     ]
    },
    {
     "name": "stderr",
     "output_type": "stream",
     "text": [
      "\r",
      "Render HTML: 100%|██████████████████████████████████████████████████████████████| 1/1 [00:00<00:00,  6.85it/s]"
     ]
    },
    {
     "name": "stderr",
     "output_type": "stream",
     "text": [
      "\r",
      "Render HTML: 100%|██████████████████████████████████████████████████████████████| 1/1 [00:00<00:00,  6.85it/s]"
     ]
    },
    {
     "name": "stderr",
     "output_type": "stream",
     "text": [
      "\n"
     ]
    },
    {
     "name": "stderr",
     "output_type": "stream",
     "text": [
      "\r",
      "Export report to file:   0%|                                                            | 0/1 [00:00<?, ?it/s]"
     ]
    },
    {
     "name": "stderr",
     "output_type": "stream",
     "text": [
      "\r",
      "Export report to file: 100%|███████████████████████████████████████████████████| 1/1 [00:00<00:00, 238.88it/s]"
     ]
    },
    {
     "name": "stderr",
     "output_type": "stream",
     "text": [
      "\n"
     ]
    }
   ],
   "source": [
    "# Generate profile report\n",
    "profile = ProfileReport(df, title=\"Movie Reviews Dataset Profile\", explorative=True)\n",
    "\n",
    "# Save to HTML file\n",
    "profile.to_file(\"../data/reports/letterbox_profile.html\")"
   ]
  }
 ],
 "metadata": {
  "kernelspec": {
   "display_name": "movie_env",
   "language": "python",
   "name": "python3"
  },
  "language_info": {
   "codemirror_mode": {
    "name": "ipython",
    "version": 3
   },
   "file_extension": ".py",
   "mimetype": "text/x-python",
   "name": "python",
   "nbconvert_exporter": "python",
   "pygments_lexer": "ipython3",
   "version": "3.12.6"
  }
 },
 "nbformat": 4,
 "nbformat_minor": 5
}
