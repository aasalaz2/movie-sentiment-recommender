{
 "cells": [
  {
   "cell_type": "code",
   "execution_count": 1,
   "id": "e1de9b10",
   "metadata": {
    "execution": {
     "iopub.execute_input": "2025-10-22T19:28:15.970283Z",
     "iopub.status.busy": "2025-10-22T19:28:15.970283Z",
     "iopub.status.idle": "2025-10-22T19:28:17.483808Z",
     "shell.execute_reply": "2025-10-22T19:28:17.483808Z"
    }
   },
   "outputs": [
    {
     "name": "stderr",
     "output_type": "stream",
     "text": [
      "[nltk_data] Downloading package stopwords to\n",
      "[nltk_data]     C:\\Users\\Andrew\\AppData\\Roaming\\nltk_data...\n",
      "[nltk_data]   Package stopwords is already up-to-date!\n",
      "[nltk_data] Downloading package wordnet to\n",
      "[nltk_data]     C:\\Users\\Andrew\\AppData\\Roaming\\nltk_data...\n",
      "[nltk_data]   Package wordnet is already up-to-date!\n"
     ]
    },
    {
     "data": {
      "text/plain": [
       "True"
      ]
     },
     "execution_count": 1,
     "metadata": {},
     "output_type": "execute_result"
    }
   ],
   "source": [
    "import re\n",
    "import nltk\n",
    "import pandas as pd\n",
    "from datetime import datetime\n",
    "from sklearn.model_selection import train_test_split\n",
    "\n",
    "\n",
    "from nltk.corpus import stopwords\n",
    "from nltk.stem import WordNetLemmatizer\n",
    "nltk.download('stopwords')\n",
    "nltk.download('wordnet')"
   ]
  },
  {
   "cell_type": "markdown",
   "id": "8da511fc",
   "metadata": {},
   "source": [
    "### Load Dataset\n",
    "Load the raw metacritic reviews dataset."
   ]
  },
  {
   "cell_type": "code",
   "execution_count": 2,
   "id": "c975257e",
   "metadata": {
    "execution": {
     "iopub.execute_input": "2025-10-22T19:28:17.483808Z",
     "iopub.status.busy": "2025-10-22T19:28:17.483808Z",
     "iopub.status.idle": "2025-10-22T19:28:17.543461Z",
     "shell.execute_reply": "2025-10-22T19:28:17.543461Z"
    }
   },
   "outputs": [
    {
     "data": {
      "text/html": [
       "<div>\n",
       "<style scoped>\n",
       "    .dataframe tbody tr th:only-of-type {\n",
       "        vertical-align: middle;\n",
       "    }\n",
       "\n",
       "    .dataframe tbody tr th {\n",
       "        vertical-align: top;\n",
       "    }\n",
       "\n",
       "    .dataframe thead th {\n",
       "        text-align: right;\n",
       "    }\n",
       "</style>\n",
       "<table border=\"1\" class=\"dataframe\">\n",
       "  <thead>\n",
       "    <tr style=\"text-align: right;\">\n",
       "      <th></th>\n",
       "      <th>Movie name</th>\n",
       "      <th>Release Date</th>\n",
       "      <th>Rating</th>\n",
       "      <th>summary</th>\n",
       "      <th>User rating</th>\n",
       "      <th>Website rating</th>\n",
       "    </tr>\n",
       "  </thead>\n",
       "  <tbody>\n",
       "    <tr>\n",
       "      <th>0</th>\n",
       "      <td>Touch of Evil</td>\n",
       "      <td>1-Feb-58</td>\n",
       "      <td>| PG-13</td>\n",
       "      <td>This film noir portrait of corruption and mora...</td>\n",
       "      <td>8.4</td>\n",
       "      <td>99</td>\n",
       "    </tr>\n",
       "    <tr>\n",
       "      <th>1</th>\n",
       "      <td>Seven Samurai</td>\n",
       "      <td>19-Nov-56</td>\n",
       "      <td>| Not Rated</td>\n",
       "      <td>Seven Samurai (Shichinin no samurai) tells the...</td>\n",
       "      <td>8.8</td>\n",
       "      <td>98</td>\n",
       "    </tr>\n",
       "    <tr>\n",
       "      <th>2</th>\n",
       "      <td>The Wild Bunch</td>\n",
       "      <td>18-Jun-69</td>\n",
       "      <td>| R</td>\n",
       "      <td>An aging group of outlaws look for one last bi...</td>\n",
       "      <td>7.6</td>\n",
       "      <td>98</td>\n",
       "    </tr>\n",
       "    <tr>\n",
       "      <th>3</th>\n",
       "      <td>Au hasard Balthazar</td>\n",
       "      <td>16-Sep-66</td>\n",
       "      <td>| Not Rated</td>\n",
       "      <td>Robert Bresson's 1966 film focuses on the stor...</td>\n",
       "      <td>7.1</td>\n",
       "      <td>98</td>\n",
       "    </tr>\n",
       "    <tr>\n",
       "      <th>4</th>\n",
       "      <td>The Lady Vanishes</td>\n",
       "      <td>1-Nov-38</td>\n",
       "      <td>| Approved</td>\n",
       "      <td>While travelling in continental Europe, a rich...</td>\n",
       "      <td>8.1</td>\n",
       "      <td>98</td>\n",
       "    </tr>\n",
       "    <tr>\n",
       "      <th>5</th>\n",
       "      <td>The Treasure of the Sierra Madre</td>\n",
       "      <td>24-Jan-48</td>\n",
       "      <td>| TV-PG</td>\n",
       "      <td>Fred Dobbs and Bob Curtin, two Americans searc...</td>\n",
       "      <td>8</td>\n",
       "      <td>98</td>\n",
       "    </tr>\n",
       "    <tr>\n",
       "      <th>6</th>\n",
       "      <td>Pan's Labyrinth</td>\n",
       "      <td>29-Dec-06</td>\n",
       "      <td>| R</td>\n",
       "      <td>Following a bloody civil war, young Ofelia ent...</td>\n",
       "      <td>8.6</td>\n",
       "      <td>98</td>\n",
       "    </tr>\n",
       "    <tr>\n",
       "      <th>7</th>\n",
       "      <td>Some Like It Hot</td>\n",
       "      <td>29-Mar-59</td>\n",
       "      <td>| Approved</td>\n",
       "      <td>When two male musicians witness a mob hit, the...</td>\n",
       "      <td>8.3</td>\n",
       "      <td>98</td>\n",
       "    </tr>\n",
       "    <tr>\n",
       "      <th>8</th>\n",
       "      <td>North by Northwest</td>\n",
       "      <td>6-Aug-59</td>\n",
       "      <td>| TV-G</td>\n",
       "      <td>A hapless New York advertising executive is mi...</td>\n",
       "      <td>8</td>\n",
       "      <td>98</td>\n",
       "    </tr>\n",
       "    <tr>\n",
       "      <th>9</th>\n",
       "      <td>The Rules of the Game</td>\n",
       "      <td>8-Apr-50</td>\n",
       "      <td>| Not Rated</td>\n",
       "      <td>A bourgeois life in France at the onset of Wor...</td>\n",
       "      <td>tbd</td>\n",
       "      <td>98</td>\n",
       "    </tr>\n",
       "  </tbody>\n",
       "</table>\n",
       "</div>"
      ],
      "text/plain": [
       "                         Movie name Release Date       Rating  \\\n",
       "0                     Touch of Evil     1-Feb-58      | PG-13   \n",
       "1                     Seven Samurai    19-Nov-56  | Not Rated   \n",
       "2                    The Wild Bunch    18-Jun-69          | R   \n",
       "3               Au hasard Balthazar    16-Sep-66  | Not Rated   \n",
       "4                 The Lady Vanishes     1-Nov-38   | Approved   \n",
       "5  The Treasure of the Sierra Madre    24-Jan-48      | TV-PG   \n",
       "6                   Pan's Labyrinth    29-Dec-06          | R   \n",
       "7                  Some Like It Hot    29-Mar-59   | Approved   \n",
       "8                North by Northwest     6-Aug-59       | TV-G   \n",
       "9             The Rules of the Game     8-Apr-50  | Not Rated   \n",
       "\n",
       "                                             summary User rating  \\\n",
       "0  This film noir portrait of corruption and mora...         8.4   \n",
       "1  Seven Samurai (Shichinin no samurai) tells the...         8.8   \n",
       "2  An aging group of outlaws look for one last bi...         7.6   \n",
       "3  Robert Bresson's 1966 film focuses on the stor...         7.1   \n",
       "4  While travelling in continental Europe, a rich...         8.1   \n",
       "5  Fred Dobbs and Bob Curtin, two Americans searc...           8   \n",
       "6  Following a bloody civil war, young Ofelia ent...         8.6   \n",
       "7  When two male musicians witness a mob hit, the...         8.3   \n",
       "8  A hapless New York advertising executive is mi...           8   \n",
       "9  A bourgeois life in France at the onset of Wor...         tbd   \n",
       "\n",
       "   Website rating  \n",
       "0              99  \n",
       "1              98  \n",
       "2              98  \n",
       "3              98  \n",
       "4              98  \n",
       "5              98  \n",
       "6              98  \n",
       "7              98  \n",
       "8              98  \n",
       "9              98  "
      ]
     },
     "execution_count": 2,
     "metadata": {},
     "output_type": "execute_result"
    }
   ],
   "source": [
    "# Load dataset\n",
    "df = pd.read_csv(\"../data/raw/metacritic-reviews.csv\", encoding='latin1', on_bad_lines=\"skip\")\n",
    "\n",
    "# Work on a copy\n",
    "clean_df = df.copy()\n",
    "\n",
    "clean_df.head(10)"
   ]
  },
  {
   "cell_type": "markdown",
   "id": "c51d1953",
   "metadata": {},
   "source": [
    "### Clean Column Names\n",
    "Replace spaces and remove capitalization to make accessing columns easier."
   ]
  },
  {
   "cell_type": "code",
   "execution_count": 3,
   "id": "1c4754f7",
   "metadata": {
    "execution": {
     "iopub.execute_input": "2025-10-22T19:28:17.545272Z",
     "iopub.status.busy": "2025-10-22T19:28:17.544268Z",
     "iopub.status.idle": "2025-10-22T19:28:17.547203Z",
     "shell.execute_reply": "2025-10-22T19:28:17.547203Z"
    }
   },
   "outputs": [],
   "source": [
    "# Clean column names\n",
    "clean_df.columns = (\n",
    "    clean_df.columns\n",
    "    .str.strip()\n",
    "    .str.lower()\n",
    "    .str.replace(\" \", \"_\")\n",
    ")"
   ]
  },
  {
   "cell_type": "markdown",
   "id": "9e4a892f",
   "metadata": {},
   "source": [
    "### Handle Unwanted Columns\n",
    "Drop unncessary columns (e.g., \"release_date\", \"rating\", \"user_rating\", \"website_rating\")."
   ]
  },
  {
   "cell_type": "code",
   "execution_count": 4,
   "id": "a15fa925",
   "metadata": {
    "execution": {
     "iopub.execute_input": "2025-10-22T19:28:17.548207Z",
     "iopub.status.busy": "2025-10-22T19:28:17.548207Z",
     "iopub.status.idle": "2025-10-22T19:28:17.551337Z",
     "shell.execute_reply": "2025-10-22T19:28:17.551337Z"
    }
   },
   "outputs": [],
   "source": [
    "clean_df.drop(columns=[\"release_date\", \"rating\", \"user_rating\", \"website_rating\"], inplace=True)"
   ]
  },
  {
   "cell_type": "markdown",
   "id": "42cc607f",
   "metadata": {},
   "source": [
    "### Handle Missing Values\n",
    "Drop rows that are missing \"movie_name\" or \"summary\"."
   ]
  },
  {
   "cell_type": "code",
   "execution_count": 5,
   "id": "1fb40bc0",
   "metadata": {
    "execution": {
     "iopub.execute_input": "2025-10-22T19:28:17.551337Z",
     "iopub.status.busy": "2025-10-22T19:28:17.551337Z",
     "iopub.status.idle": "2025-10-22T19:28:17.558401Z",
     "shell.execute_reply": "2025-10-22T19:28:17.558401Z"
    }
   },
   "outputs": [
    {
     "name": "stdout",
     "output_type": "stream",
     "text": [
      "movie_name    0\n",
      "summary       1\n",
      "dtype: int64\n"
     ]
    }
   ],
   "source": [
    "# Drop rows with missing \"movie_name\" and \"summary\".\n",
    "print(clean_df.isna().sum())\n",
    "clean_df = clean_df.dropna(subset=[\"movie_name\", \"summary\"])"
   ]
  },
  {
   "cell_type": "markdown",
   "id": "9f76f1cc",
   "metadata": {},
   "source": [
    "### Clean Movie Name"
   ]
  },
  {
   "cell_type": "code",
   "execution_count": 6,
   "id": "c8250d83",
   "metadata": {
    "execution": {
     "iopub.execute_input": "2025-10-22T19:28:17.558401Z",
     "iopub.status.busy": "2025-10-22T19:28:17.558401Z",
     "iopub.status.idle": "2025-10-22T19:28:17.577362Z",
     "shell.execute_reply": "2025-10-22T19:28:17.577362Z"
    }
   },
   "outputs": [
    {
     "data": {
      "text/html": [
       "<div>\n",
       "<style scoped>\n",
       "    .dataframe tbody tr th:only-of-type {\n",
       "        vertical-align: middle;\n",
       "    }\n",
       "\n",
       "    .dataframe tbody tr th {\n",
       "        vertical-align: top;\n",
       "    }\n",
       "\n",
       "    .dataframe thead th {\n",
       "        text-align: right;\n",
       "    }\n",
       "</style>\n",
       "<table border=\"1\" class=\"dataframe\">\n",
       "  <thead>\n",
       "    <tr style=\"text-align: right;\">\n",
       "      <th></th>\n",
       "      <th>movie_name</th>\n",
       "      <th>movie_name_clean</th>\n",
       "    </tr>\n",
       "  </thead>\n",
       "  <tbody>\n",
       "    <tr>\n",
       "      <th>0</th>\n",
       "      <td>Touch of Evil</td>\n",
       "      <td>touch of evil</td>\n",
       "    </tr>\n",
       "    <tr>\n",
       "      <th>1</th>\n",
       "      <td>Seven Samurai</td>\n",
       "      <td>seven samurai</td>\n",
       "    </tr>\n",
       "    <tr>\n",
       "      <th>2</th>\n",
       "      <td>The Wild Bunch</td>\n",
       "      <td>the wild bunch</td>\n",
       "    </tr>\n",
       "    <tr>\n",
       "      <th>3</th>\n",
       "      <td>Au hasard Balthazar</td>\n",
       "      <td>au hasard balthazar</td>\n",
       "    </tr>\n",
       "    <tr>\n",
       "      <th>4</th>\n",
       "      <td>The Lady Vanishes</td>\n",
       "      <td>the lady vanishes</td>\n",
       "    </tr>\n",
       "    <tr>\n",
       "      <th>5</th>\n",
       "      <td>The Treasure of the Sierra Madre</td>\n",
       "      <td>the treasure of the sierra madre</td>\n",
       "    </tr>\n",
       "    <tr>\n",
       "      <th>6</th>\n",
       "      <td>Pan's Labyrinth</td>\n",
       "      <td>pan's labyrinth</td>\n",
       "    </tr>\n",
       "    <tr>\n",
       "      <th>7</th>\n",
       "      <td>Some Like It Hot</td>\n",
       "      <td>some like it hot</td>\n",
       "    </tr>\n",
       "    <tr>\n",
       "      <th>8</th>\n",
       "      <td>North by Northwest</td>\n",
       "      <td>north by northwest</td>\n",
       "    </tr>\n",
       "    <tr>\n",
       "      <th>9</th>\n",
       "      <td>The Rules of the Game</td>\n",
       "      <td>the rules of the game</td>\n",
       "    </tr>\n",
       "  </tbody>\n",
       "</table>\n",
       "</div>"
      ],
      "text/plain": [
       "                         movie_name                  movie_name_clean\n",
       "0                     Touch of Evil                     touch of evil\n",
       "1                     Seven Samurai                     seven samurai\n",
       "2                    The Wild Bunch                    the wild bunch\n",
       "3               Au hasard Balthazar               au hasard balthazar\n",
       "4                 The Lady Vanishes                 the lady vanishes\n",
       "5  The Treasure of the Sierra Madre  the treasure of the sierra madre\n",
       "6                   Pan's Labyrinth                   pan's labyrinth\n",
       "7                  Some Like It Hot                  some like it hot\n",
       "8                North by Northwest                north by northwest\n",
       "9             The Rules of the Game             the rules of the game"
      ]
     },
     "execution_count": 6,
     "metadata": {},
     "output_type": "execute_result"
    }
   ],
   "source": [
    "def clean_movie_title(title):\n",
    "    if pd.isna(title):\n",
    "        return title\n",
    "    \n",
    "    title = re.sub(r\"\\s*\\(\\d{4}\\)\\s*\", \"\", str(title))\n",
    "\n",
    "    return title.strip().lower()\n",
    "\n",
    "clean_df[\"movie_name_clean\"] = clean_df[\"movie_name\"].apply(clean_movie_title)\n",
    "\n",
    "# Sanity check\n",
    "clean_df[[\"movie_name\", \"movie_name_clean\"]].head(10)"
   ]
  },
  {
   "cell_type": "markdown",
   "id": "d6130817",
   "metadata": {},
   "source": [
    "### Clean Summary\n",
    "Clean \"summary\" column by removing stop words and lemmatizing words to tokens. "
   ]
  },
  {
   "cell_type": "code",
   "execution_count": 7,
   "id": "4664b5c0",
   "metadata": {
    "execution": {
     "iopub.execute_input": "2025-10-22T19:28:17.578367Z",
     "iopub.status.busy": "2025-10-22T19:28:17.578367Z",
     "iopub.status.idle": "2025-10-22T19:28:20.166512Z",
     "shell.execute_reply": "2025-10-22T19:28:20.166512Z"
    }
   },
   "outputs": [
    {
     "data": {
      "text/html": [
       "<div>\n",
       "<style scoped>\n",
       "    .dataframe tbody tr th:only-of-type {\n",
       "        vertical-align: middle;\n",
       "    }\n",
       "\n",
       "    .dataframe tbody tr th {\n",
       "        vertical-align: top;\n",
       "    }\n",
       "\n",
       "    .dataframe thead th {\n",
       "        text-align: right;\n",
       "    }\n",
       "</style>\n",
       "<table border=\"1\" class=\"dataframe\">\n",
       "  <thead>\n",
       "    <tr style=\"text-align: right;\">\n",
       "      <th></th>\n",
       "      <th>summary</th>\n",
       "      <th>summary_clean</th>\n",
       "    </tr>\n",
       "  </thead>\n",
       "  <tbody>\n",
       "    <tr>\n",
       "      <th>0</th>\n",
       "      <td>This film noir portrait of corruption and mora...</td>\n",
       "      <td>film noir portrait corruption morally compromi...</td>\n",
       "    </tr>\n",
       "    <tr>\n",
       "      <th>1</th>\n",
       "      <td>Seven Samurai (Shichinin no samurai) tells the...</td>\n",
       "      <td>seven samurai shichinin samurai tell story six...</td>\n",
       "    </tr>\n",
       "    <tr>\n",
       "      <th>2</th>\n",
       "      <td>An aging group of outlaws look for one last bi...</td>\n",
       "      <td>aging group outlaw look one last big score tra...</td>\n",
       "    </tr>\n",
       "    <tr>\n",
       "      <th>3</th>\n",
       "      <td>Robert Bresson's 1966 film focuses on the stor...</td>\n",
       "      <td>robert bresson film focus story donkey balthaz...</td>\n",
       "    </tr>\n",
       "    <tr>\n",
       "      <th>4</th>\n",
       "      <td>While travelling in continental Europe, a rich...</td>\n",
       "      <td>travelling continental europe rich young playg...</td>\n",
       "    </tr>\n",
       "    <tr>\n",
       "      <th>5</th>\n",
       "      <td>Fred Dobbs and Bob Curtin, two Americans searc...</td>\n",
       "      <td>fred dobbs bob curtin two american searching w...</td>\n",
       "    </tr>\n",
       "    <tr>\n",
       "      <th>6</th>\n",
       "      <td>Following a bloody civil war, young Ofelia ent...</td>\n",
       "      <td>following bloody civil war young ofelia enters...</td>\n",
       "    </tr>\n",
       "    <tr>\n",
       "      <th>7</th>\n",
       "      <td>When two male musicians witness a mob hit, the...</td>\n",
       "      <td>two male musician witness mob hit flee state f...</td>\n",
       "    </tr>\n",
       "    <tr>\n",
       "      <th>8</th>\n",
       "      <td>A hapless New York advertising executive is mi...</td>\n",
       "      <td>hapless new york advertising executive mistake...</td>\n",
       "    </tr>\n",
       "    <tr>\n",
       "      <th>9</th>\n",
       "      <td>A bourgeois life in France at the onset of Wor...</td>\n",
       "      <td>bourgeois life france onset world war ii rich ...</td>\n",
       "    </tr>\n",
       "  </tbody>\n",
       "</table>\n",
       "</div>"
      ],
      "text/plain": [
       "                                             summary  \\\n",
       "0  This film noir portrait of corruption and mora...   \n",
       "1  Seven Samurai (Shichinin no samurai) tells the...   \n",
       "2  An aging group of outlaws look for one last bi...   \n",
       "3  Robert Bresson's 1966 film focuses on the stor...   \n",
       "4  While travelling in continental Europe, a rich...   \n",
       "5  Fred Dobbs and Bob Curtin, two Americans searc...   \n",
       "6  Following a bloody civil war, young Ofelia ent...   \n",
       "7  When two male musicians witness a mob hit, the...   \n",
       "8  A hapless New York advertising executive is mi...   \n",
       "9  A bourgeois life in France at the onset of Wor...   \n",
       "\n",
       "                                       summary_clean  \n",
       "0  film noir portrait corruption morally compromi...  \n",
       "1  seven samurai shichinin samurai tell story six...  \n",
       "2  aging group outlaw look one last big score tra...  \n",
       "3  robert bresson film focus story donkey balthaz...  \n",
       "4  travelling continental europe rich young playg...  \n",
       "5  fred dobbs bob curtin two american searching w...  \n",
       "6  following bloody civil war young ofelia enters...  \n",
       "7  two male musician witness mob hit flee state f...  \n",
       "8  hapless new york advertising executive mistake...  \n",
       "9  bourgeois life france onset world war ii rich ...  "
      ]
     },
     "execution_count": 7,
     "metadata": {},
     "output_type": "execute_result"
    }
   ],
   "source": [
    "stop_words = set(stopwords.words('english'))\n",
    "lemmatizer = WordNetLemmatizer()\n",
    "\n",
    "def clean_summary(s):\n",
    "    if pd.isna(s):\n",
    "        return \"\"\n",
    "    s = re.sub(r\"<.*?>\", \" \", s)\n",
    "    s = re.sub(r\"[^a-zA-Z\\s]\", \" \", s)\n",
    "    s = s.lower()\n",
    "    tokens = [lemmatizer.lemmatize(w) for w in s.split() if w not in stop_words]\n",
    "    return \" \".join(tokens)\n",
    "\n",
    "clean_df[\"summary_clean\"] = clean_df[\"summary\"].apply(clean_summary)\n",
    "\n",
    "# Sanity check\n",
    "clean_df[[\"summary\", \"summary_clean\"]].head(10)"
   ]
  },
  {
   "cell_type": "markdown",
   "id": "f9321b93",
   "metadata": {},
   "source": [
    "### Drop and Replace Original Columns with Clean Ones\n",
    "After performing sanity checks, replace original (messy) columns with clean ones."
   ]
  },
  {
   "cell_type": "code",
   "execution_count": 8,
   "id": "55a11734",
   "metadata": {
    "execution": {
     "iopub.execute_input": "2025-10-22T19:28:20.168519Z",
     "iopub.status.busy": "2025-10-22T19:28:20.167517Z",
     "iopub.status.idle": "2025-10-22T19:28:20.171516Z",
     "shell.execute_reply": "2025-10-22T19:28:20.171516Z"
    }
   },
   "outputs": [],
   "source": [
    "# Drop and replace original columns with the clean ones\n",
    "clean_df.drop(columns=[\"movie_name\", \"summary\"], inplace=True)\n",
    "clean_df.rename(columns={\"movie_name_clean\": \"movie_name\", \"summary_clean\": \"summary\"}, inplace=True)"
   ]
  },
  {
   "cell_type": "markdown",
   "id": "bffceccf",
   "metadata": {},
   "source": [
    "### Date Type Conversions\n",
    "Convert \"movie_name\" and \"summary\" to strings."
   ]
  },
  {
   "cell_type": "code",
   "execution_count": 9,
   "id": "bfef8a32",
   "metadata": {
    "execution": {
     "iopub.execute_input": "2025-10-22T19:28:20.172913Z",
     "iopub.status.busy": "2025-10-22T19:28:20.172913Z",
     "iopub.status.idle": "2025-10-22T19:28:20.175777Z",
     "shell.execute_reply": "2025-10-22T19:28:20.175777Z"
    }
   },
   "outputs": [],
   "source": [
    "# Convert \"movie_name\" to string\n",
    "clean_df[\"movie_name\"] = clean_df[\"movie_name\"].astype(\"string\")\n",
    "\n",
    "# Convert \"review\" to string\n",
    "clean_df[\"summary\"] = clean_df[\"summary\"].astype(\"string\")"
   ]
  },
  {
   "cell_type": "markdown",
   "id": "9aae0124",
   "metadata": {},
   "source": [
    "### Save Cleaned Data\n",
    "Export the clean metacritic reviews data."
   ]
  },
  {
   "cell_type": "code",
   "execution_count": 10,
   "id": "970accbe",
   "metadata": {
    "execution": {
     "iopub.execute_input": "2025-10-22T19:28:20.175777Z",
     "iopub.status.busy": "2025-10-22T19:28:20.175777Z",
     "iopub.status.idle": "2025-10-22T19:28:20.226073Z",
     "shell.execute_reply": "2025-10-22T19:28:20.226073Z"
    }
   },
   "outputs": [],
   "source": [
    "clean_df.to_csv(\"../data/processed/metacritic_reviews_clean.csv\", index=False)"
   ]
  }
 ],
 "metadata": {
  "kernelspec": {
   "display_name": "movie_env",
   "language": "python",
   "name": "python3"
  },
  "language_info": {
   "codemirror_mode": {
    "name": "ipython",
    "version": 3
   },
   "file_extension": ".py",
   "mimetype": "text/x-python",
   "name": "python",
   "nbconvert_exporter": "python",
   "pygments_lexer": "ipython3",
   "version": "3.12.6"
  }
 },
 "nbformat": 4,
 "nbformat_minor": 5
}
