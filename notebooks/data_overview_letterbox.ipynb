{
 "cells": [
  {
   "cell_type": "code",
   "execution_count": 1,
   "id": "ce7f1f08",
   "metadata": {},
   "outputs": [
    {
     "name": "stderr",
     "output_type": "stream",
     "text": [
      "c:\\Users\\Andrew\\movie_env\\Lib\\site-packages\\tqdm\\auto.py:21: TqdmWarning: IProgress not found. Please update jupyter and ipywidgets. See https://ipywidgets.readthedocs.io/en/stable/user_install.html\n",
      "  from .autonotebook import tqdm as notebook_tqdm\n"
     ]
    }
   ],
   "source": [
    "import pandas as pd\n",
    "from ydata_profiling import ProfileReport"
   ]
  },
  {
   "cell_type": "code",
   "execution_count": 2,
   "id": "399e7643",
   "metadata": {},
   "outputs": [
    {
     "name": "stderr",
     "output_type": "stream",
     "text": [
      "Summarize dataset: 100%|██████████| 18/18 [00:00<00:00, 32.73it/s, Completed]                     \n",
      "Generate report structure: 100%|██████████| 1/1 [00:02<00:00,  2.75s/it]\n",
      "Render HTML: 100%|██████████| 1/1 [00:00<00:00,  3.75it/s]\n",
      "Export report to file: 100%|██████████| 1/1 [00:00<00:00, 138.95it/s]\n"
     ]
    }
   ],
   "source": [
    "# Load dataset\n",
    "df = pd.read_csv(\"../data/raw/letterboxd-reviews.csv\", encoding='latin1')\n",
    "\n",
    "# Generate profile report\n",
    "profile = ProfileReport(df, title=\"Movie Reviews Dataset Profile\", explorative=True)\n",
    "\n",
    "# Save to HTML file\n",
    "profile.to_file(\"../data/reports/movie_reviews_profile.html\")"
   ]
  }
 ],
 "metadata": {
  "kernelspec": {
   "display_name": "movie_env",
   "language": "python",
   "name": "python3"
  },
  "language_info": {
   "codemirror_mode": {
    "name": "ipython",
    "version": 3
   },
   "file_extension": ".py",
   "mimetype": "text/x-python",
   "name": "python",
   "nbconvert_exporter": "python",
   "pygments_lexer": "ipython3",
   "version": "3.12.6"
  }
 },
 "nbformat": 4,
 "nbformat_minor": 5
}
