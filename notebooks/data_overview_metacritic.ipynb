{
 "cells": [
  {
   "cell_type": "code",
   "execution_count": 9,
   "id": "41a546cf",
   "metadata": {},
   "outputs": [],
   "source": [
    "import pandas as pd\n",
    "from ydata_profiling import ProfileReport"
   ]
  },
  {
   "cell_type": "code",
   "execution_count": 10,
   "id": "bcb67c23",
   "metadata": {},
   "outputs": [
    {
     "name": "stderr",
     "output_type": "stream",
     "text": [
      "Summarize dataset: 100%|██████████| 17/17 [00:01<00:00, 15.43it/s, Completed]                            \n",
      "Generate report structure: 100%|██████████| 1/1 [00:01<00:00,  1.81s/it]\n",
      "Render HTML: 100%|██████████| 1/1 [00:00<00:00,  4.41it/s]\n",
      "Export report to file: 100%|██████████| 1/1 [00:00<00:00, 218.70it/s]\n"
     ]
    }
   ],
   "source": [
    "# Load dataset\n",
    "df = pd.read_csv(\"../data/raw/metacritic-reviews.csv\", encoding='latin1', on_bad_lines=\"skip\")\n",
    "\n",
    "# Generate profile report\n",
    "profile = ProfileReport(df, title=\"Metacritic Dataset Profile\", explorative=True)\n",
    "\n",
    "# Save to HTML file\n",
    "profile.to_file(\"../data/reports/metacritic_profile.html\")"
   ]
  }
 ],
 "metadata": {
  "kernelspec": {
   "display_name": "Python (movie_env)",
   "language": "python",
   "name": "movie_env"
  },
  "language_info": {
   "codemirror_mode": {
    "name": "ipython",
    "version": 3
   },
   "file_extension": ".py",
   "mimetype": "text/x-python",
   "name": "python",
   "nbconvert_exporter": "python",
   "pygments_lexer": "ipython3",
   "version": "3.12.6"
  }
 },
 "nbformat": 4,
 "nbformat_minor": 5
}
